{
 "cells": [
  {
   "cell_type": "markdown",
   "metadata": {},
   "source": [
    "# Obdelava podatkov"
   ]
  },
  {
   "cell_type": "markdown",
   "metadata": {},
   "source": [
    "## Priprava\n",
    "\n",
    "Najprej uvozimo potrebna paketa in omejimo število izpisanih vrstic tabele, saj bomo delali z razpredelnicami velikih razsežnosti."
   ]
  },
  {
   "cell_type": "code",
   "execution_count": 58,
   "metadata": {},
   "outputs": [],
   "source": [
    "import pandas as pd\n",
    "import matplotlib\n",
    "import matplotlib.pyplot as plt\n",
    "pd.options.display.max_rows = 10"
   ]
  },
  {
   "cell_type": "markdown",
   "metadata": {},
   "source": [
    "## Uvoz podatkov\n",
    "\n",
    "Uvozimo podatke, ki smo jih predelali v datoteki `uvoz_podatkov.py`."
   ]
  },
  {
   "cell_type": "code",
   "execution_count": 59,
   "metadata": {},
   "outputs": [],
   "source": [
    "epizode = pd.read_csv('vse_epizode.csv', index_col=\"id\")\n",
    "reziserji = pd.read_csv('reziserji.csv', index_col=\"id\")\n",
    "zanri = pd.read_csv('zanri.csv')"
   ]
  },
  {
   "cell_type": "markdown",
   "metadata": {},
   "source": [
    "## Analiza podatkov\n",
    "\n",
    "V tem razdelku si bomo ogledali in testirali vse hipoteze, ki sem jih postavil v sami zasnovi projektne naloge. Hipoteze bomo preverjali v enakem vrstnem redu, kot so zapisane v opisu naloge."
   ]
  },
  {
   "cell_type": "markdown",
   "metadata": {},
   "source": [
    "### 1. hipoteza\n",
    "\n",
    "Katera serija ima v povprečju najbolje ocenjene epizode?"
   ]
  },
  {
   "cell_type": "code",
   "execution_count": 60,
   "metadata": {},
   "outputs": [
    {
     "data": {
      "text/html": [
       "<div>\n",
       "<style scoped>\n",
       "    .dataframe tbody tr th:only-of-type {\n",
       "        vertical-align: middle;\n",
       "    }\n",
       "\n",
       "    .dataframe tbody tr th {\n",
       "        vertical-align: top;\n",
       "    }\n",
       "\n",
       "    .dataframe thead th {\n",
       "        text-align: right;\n",
       "    }\n",
       "</style>\n",
       "<table border=\"1\" class=\"dataframe\">\n",
       "  <thead>\n",
       "    <tr style=\"text-align: right;\">\n",
       "      <th></th>\n",
       "      <th>povprecna_ocena</th>\n",
       "    </tr>\n",
       "    <tr>\n",
       "      <th>serija</th>\n",
       "      <th></th>\n",
       "    </tr>\n",
       "  </thead>\n",
       "  <tbody>\n",
       "    <tr>\n",
       "      <th>LazyTown</th>\n",
       "      <td>10.000000</td>\n",
       "    </tr>\n",
       "    <tr>\n",
       "      <th>Pod ruso</th>\n",
       "      <td>9.800000</td>\n",
       "    </tr>\n",
       "    <tr>\n",
       "      <th>Avatar: The Last Airbender</th>\n",
       "      <td>9.800000</td>\n",
       "    </tr>\n",
       "    <tr>\n",
       "      <th>Star Wars: Rebels</th>\n",
       "      <td>9.800000</td>\n",
       "    </tr>\n",
       "    <tr>\n",
       "      <th>Gravity Falls</th>\n",
       "      <td>9.800000</td>\n",
       "    </tr>\n",
       "    <tr>\n",
       "      <th>Billions</th>\n",
       "      <td>9.700000</td>\n",
       "    </tr>\n",
       "    <tr>\n",
       "      <th>Parki in rekreacija</th>\n",
       "      <td>9.633333</td>\n",
       "    </tr>\n",
       "    <tr>\n",
       "      <th>Banshee</th>\n",
       "      <td>9.600000</td>\n",
       "    </tr>\n",
       "    <tr>\n",
       "      <th>The Legend of Korra</th>\n",
       "      <td>9.600000</td>\n",
       "    </tr>\n",
       "    <tr>\n",
       "      <th>Angel</th>\n",
       "      <td>9.600000</td>\n",
       "    </tr>\n",
       "  </tbody>\n",
       "</table>\n",
       "</div>"
      ],
      "text/plain": [
       "                            povprecna_ocena\n",
       "serija                                     \n",
       "LazyTown                          10.000000\n",
       "Pod ruso                           9.800000\n",
       "Avatar: The Last Airbender         9.800000\n",
       "Star Wars: Rebels                  9.800000\n",
       "Gravity Falls                      9.800000\n",
       "Billions                           9.700000\n",
       "Parki in rekreacija                9.633333\n",
       "Banshee                            9.600000\n",
       "The Legend of Korra                9.600000\n",
       "Angel                              9.600000"
      ]
     },
     "execution_count": 60,
     "metadata": {},
     "output_type": "execute_result"
    }
   ],
   "source": [
    "serije = epizode[['serija', 'ocena']].groupby('serija')\n",
    "serije = serije.mean().sort_values('ocena', ascending = False)\n",
    "serije = serije.rename(index=str, columns = {'ocena': 'povprecna_ocena'})\n",
    "serije[:10]"
   ]
  },
  {
   "cell_type": "markdown",
   "metadata": {},
   "source": [
    "Kot je iz razpredelnice razvidno, je v povprečju najbolje ocenjena serija LazyTown, sledita pa ji Pod rušo ter Avatar: The Last Airbender.\n",
    "\n",
    "Iz tabele serije ugotovimo, da imajo najboljše povprečne ocene serije, ki se ponovijo bolj malokrat. Iz tega lahko skepamo, da imajo dovoljšno število glasov pri teh serijah le najbolj popularne epizode. Zaradi tega ponovimo prejšnji postopek le za tiste serije, za katere imamo v prvotni tabeli vsaj 5 epizod."
   ]
  },
  {
   "cell_type": "code",
   "execution_count": 61,
   "metadata": {},
   "outputs": [
    {
     "data": {
      "text/html": [
       "<div>\n",
       "<style scoped>\n",
       "    .dataframe tbody tr th:only-of-type {\n",
       "        vertical-align: middle;\n",
       "    }\n",
       "\n",
       "    .dataframe tbody tr th {\n",
       "        vertical-align: top;\n",
       "    }\n",
       "\n",
       "    .dataframe thead th {\n",
       "        text-align: right;\n",
       "    }\n",
       "</style>\n",
       "<table border=\"1\" class=\"dataframe\">\n",
       "  <thead>\n",
       "    <tr style=\"text-align: right;\">\n",
       "      <th></th>\n",
       "      <th>povprecna_ocena</th>\n",
       "      <th>st_ponovitev</th>\n",
       "    </tr>\n",
       "    <tr>\n",
       "      <th>serija</th>\n",
       "      <th></th>\n",
       "      <th></th>\n",
       "    </tr>\n",
       "  </thead>\n",
       "  <tbody>\n",
       "    <tr>\n",
       "      <th>One Punch Man: Wanpanman</th>\n",
       "      <td>9.466667</td>\n",
       "      <td>6</td>\n",
       "    </tr>\n",
       "    <tr>\n",
       "      <th>How to Get Away with Murder</th>\n",
       "      <td>9.320000</td>\n",
       "      <td>5</td>\n",
       "    </tr>\n",
       "    <tr>\n",
       "      <th>Sinovi anarhije</th>\n",
       "      <td>9.300000</td>\n",
       "      <td>8</td>\n",
       "    </tr>\n",
       "    <tr>\n",
       "      <th>Futurama</th>\n",
       "      <td>9.240000</td>\n",
       "      <td>5</td>\n",
       "    </tr>\n",
       "    <tr>\n",
       "      <th>Nepremagljivi dvojec</th>\n",
       "      <td>9.238889</td>\n",
       "      <td>18</td>\n",
       "    </tr>\n",
       "    <tr>\n",
       "      <th>Community</th>\n",
       "      <td>9.204762</td>\n",
       "      <td>21</td>\n",
       "    </tr>\n",
       "    <tr>\n",
       "      <th>Shingeki no kyojin</th>\n",
       "      <td>9.183333</td>\n",
       "      <td>6</td>\n",
       "    </tr>\n",
       "    <tr>\n",
       "      <th>Igra prestolov</th>\n",
       "      <td>9.107463</td>\n",
       "      <td>67</td>\n",
       "    </tr>\n",
       "    <tr>\n",
       "      <th>Lov na osumljenca</th>\n",
       "      <td>9.098765</td>\n",
       "      <td>81</td>\n",
       "    </tr>\n",
       "    <tr>\n",
       "      <th>Daredevil</th>\n",
       "      <td>9.048485</td>\n",
       "      <td>33</td>\n",
       "    </tr>\n",
       "  </tbody>\n",
       "</table>\n",
       "</div>"
      ],
      "text/plain": [
       "                             povprecna_ocena  st_ponovitev\n",
       "serija                                                    \n",
       "One Punch Man: Wanpanman            9.466667             6\n",
       "How to Get Away with Murder         9.320000             5\n",
       "Sinovi anarhije                     9.300000             8\n",
       "Futurama                            9.240000             5\n",
       "Nepremagljivi dvojec                9.238889            18\n",
       "Community                           9.204762            21\n",
       "Shingeki no kyojin                  9.183333             6\n",
       "Igra prestolov                      9.107463            67\n",
       "Lov na osumljenca                   9.098765            81\n",
       "Daredevil                           9.048485            33"
      ]
     },
     "execution_count": 61,
     "metadata": {},
     "output_type": "execute_result"
    }
   ],
   "source": [
    "serije2 = serije\n",
    "serije2['st_ponovitev'] = epizode[['serija', 'ocena']].groupby('serija').count()\n",
    "serije2 = serije2[serije2.st_ponovitev >= 5]\n",
    "serije2[:10]"
   ]
  },
  {
   "cell_type": "markdown",
   "metadata": {},
   "source": [
    "Prejšnji sklep je bil očitno pravilen, saj je vseh 10 serij drugačnih kot prej. Ugotovimo pa lahko, da je najbolje ocenjena serija z vsaj 5 epizodami z dovoljšnim številom glasov One Punch Man: Wanpanman, sledita pa ji How To Get Away with Murder in Sinovi anarhije. Spet pa lahko opazimo, da ima prvih par serij manj kot 10 ponovitev. Najbolje ocenjeni seriji z vsaj 10 ponovitvami sta Nepramagljivi dvojec in Community, izstopata pa tudi seriji Igra prestolov in Lov na osumljenca, ki imata več kot 50 ponovitev, njuna povprečna ocena pa vseeno presega 9.0."
   ]
  },
  {
   "cell_type": "markdown",
   "metadata": {},
   "source": [
    "### 2. hipoteza\n",
    "\n",
    "Ali obstaja povezava med trajanjem in oceno epizode?"
   ]
  },
  {
   "cell_type": "code",
   "execution_count": 62,
   "metadata": {},
   "outputs": [],
   "source": [
    "%matplotlib inline"
   ]
  },
  {
   "cell_type": "code",
   "execution_count": 63,
   "metadata": {},
   "outputs": [
    {
     "data": {
      "text/plain": [
       "[Text(0, 0.5, 'Ocena'), Text(0.5, 0, 'Dolžina')]"
      ]
     },
     "execution_count": 63,
     "metadata": {},
     "output_type": "execute_result"
    },
    {
     "data": {
      "image/png": "[encoded data removed]",
      "text/plain": [
       "<Figure size 432x288 with 1 Axes>"
      ]
     },
     "metadata": {
      "needs_background": "light"
     },
     "output_type": "display_data"
    }
   ],
   "source": [
    "epizode.plot.scatter('dolzina', 'ocena', title = 'Povezava med oceno in dolžino epizode', color = 'deepskyblue').set(xlabel='Dolžina', ylabel='Ocena')"
   ]
  },
  {
   "cell_type": "markdown",
   "metadata": {},
   "source": [
    "Iz zgornjega grafa ni preveč očitno, kakšna je povezava med dolzino in oceno epizode, zato bomo nekaj epizod z precej nadpovprečnim trajanjem odstranili."
   ]
  },
  {
   "cell_type": "code",
   "execution_count": 64,
   "metadata": {},
   "outputs": [
    {
     "data": {
      "text/plain": [
       "[Text(0, 0.5, 'Ocena'), Text(0.5, 0, 'Dolžina')]"
      ]
     },
     "execution_count": 64,
     "metadata": {},
     "output_type": "execute_result"
    },
    {
     "data": {
      "image/png": "[encoded data removed]",
      "text/plain": [
       "<Figure size 432x288 with 1 Axes>"
      ]
     },
     "metadata": {
      "needs_background": "light"
     },
     "output_type": "display_data"
    }
   ],
   "source": [
    "epizode[epizode.dolzina < 150].plot.scatter('dolzina', 'ocena', title = 'Povezava med oceno in dolžino epizode',\n",
    "                                            color = 'deepskyblue').set(xlabel='Dolžina', ylabel='Ocena')"
   ]
  },
  {
   "cell_type": "markdown",
   "metadata": {},
   "source": [
    "Močne povezave med trajanjem epizode in njeno oceno iz zgornjega grafa ni mogoče opaziti, kar je v nasprotju z mojimi pričakovanji. Najbrž pa razlog za to dejstvo tiči v tem, da se pri krajših (ponavadi komičnih) serijah zgodba ne navezuje tako močno na prejšnje epizode, zato so bolje gledane le najboljše epizode teh serij. Posledično imajo samo te dovolj glasov, da jih upoštevamo, iz česar sledi boljša povprečna ocena serij s trajanjnem manj kot pol ure.\n",
    "\n",
    "Poleg tega lahko opazimo tudi nekakšno mejo med trajanji 30 in 40 minut, kar po moji predpostavki določa mejo med komičnimi in nekomičnimi serijami. To predpostavko bomo preverjali v nadaljevanju."
   ]
  },
  {
   "cell_type": "markdown",
   "metadata": {},
   "source": [
    "### 3. hipoteza\n",
    "\n",
    "V katerem petletju je izšlo največ epizod?"
   ]
  },
  {
   "cell_type": "code",
   "execution_count": 65,
   "metadata": {},
   "outputs": [
    {
     "data": {
      "text/plain": [
       "[Text(0.5, 0, 'Petletje')]"
      ]
     },
     "execution_count": 65,
     "metadata": {},
     "output_type": "execute_result"
    },
    {
     "data": {
      "image/png": "[encoded data removed]",
      "text/plain": [
       "<Figure size 432x288 with 1 Axes>"
      ]
     },
     "metadata": {
      "needs_background": "light"
     },
     "output_type": "display_data"
    }
   ],
   "source": [
    "epizode['petletje'] = 5 * (epizode.leto // 5)\n",
    "epizode_po_petletjih = epizode[['serija', 'petletje']].groupby('petletje').count()\n",
    "epizode_po_petletjih = epizode_po_petletjih.rename(index=str, columns = {'serija': 'Število epizod'})\n",
    "\n",
    "epizode_po_petletjih.plot.bar(color = 'lime', title = 'Število epizod po petletjih').set(xlabel='Petletje')"
   ]
  },
  {
   "cell_type": "markdown",
   "metadata": {},
   "source": [
    "Kot lahko opazimo v zgornjem grafu, je največ epizod izšlo v petletju 2015-2020, ki pa ga seveda še zdaleč ni konec. Iz tega dejstva ter iz trenda naraščanja, opaženega v preteklih petletjih, torej lahko ugotovimo, da se popularnost serij in posledično število le-leh v zadnjih letih krepko povečuje."
   ]
  },
  {
   "cell_type": "markdown",
   "metadata": {},
   "source": [
    "### 4. hipoteza\n",
    "\n",
    "Kateri režiser ustvarja najboljše epizode?"
   ]
  },
  {
   "cell_type": "code",
   "execution_count": 66,
   "metadata": {},
   "outputs": [
    {
     "data": {
      "text/html": [
       "<div>\n",
       "<style scoped>\n",
       "    .dataframe tbody tr th:only-of-type {\n",
       "        vertical-align: middle;\n",
       "    }\n",
       "\n",
       "    .dataframe tbody tr th {\n",
       "        vertical-align: top;\n",
       "    }\n",
       "\n",
       "    .dataframe thead th {\n",
       "        text-align: right;\n",
       "    }\n",
       "</style>\n",
       "<table border=\"1\" class=\"dataframe\">\n",
       "  <thead>\n",
       "    <tr style=\"text-align: right;\">\n",
       "      <th></th>\n",
       "      <th>povprecna_ocena</th>\n",
       "    </tr>\n",
       "    <tr>\n",
       "      <th>reziser</th>\n",
       "      <th></th>\n",
       "    </tr>\n",
       "  </thead>\n",
       "  <tbody>\n",
       "    <tr>\n",
       "      <th>Magnús Scheving</th>\n",
       "      <td>10.0</td>\n",
       "    </tr>\n",
       "    <tr>\n",
       "      <th>Bill Lawrence</th>\n",
       "      <td>9.8</td>\n",
       "    </tr>\n",
       "    <tr>\n",
       "      <th>Dave Filoni</th>\n",
       "      <td>9.8</td>\n",
       "    </tr>\n",
       "    <tr>\n",
       "      <th>Jeff Melman</th>\n",
       "      <td>9.8</td>\n",
       "    </tr>\n",
       "    <tr>\n",
       "      <th>Joaquim Dos Santos</th>\n",
       "      <td>9.8</td>\n",
       "    </tr>\n",
       "    <tr>\n",
       "      <th>Aaron Long</th>\n",
       "      <td>9.7</td>\n",
       "    </tr>\n",
       "    <tr>\n",
       "      <th>Chris Koch</th>\n",
       "      <td>9.7</td>\n",
       "    </tr>\n",
       "    <tr>\n",
       "      <th>Karyn Kusama</th>\n",
       "      <td>9.7</td>\n",
       "    </tr>\n",
       "    <tr>\n",
       "      <th>John Michel</th>\n",
       "      <td>9.7</td>\n",
       "    </tr>\n",
       "    <tr>\n",
       "      <th>Steve Buscemi</th>\n",
       "      <td>9.7</td>\n",
       "    </tr>\n",
       "  </tbody>\n",
       "</table>\n",
       "</div>"
      ],
      "text/plain": [
       "                    povprecna_ocena\n",
       "reziser                            \n",
       "Magnús Scheving                10.0\n",
       "Bill Lawrence                   9.8\n",
       "Dave Filoni                     9.8\n",
       "Jeff Melman                     9.8\n",
       "Joaquim Dos Santos              9.8\n",
       "Aaron Long                      9.7\n",
       "Chris Koch                      9.7\n",
       "Karyn Kusama                    9.7\n",
       "John Michel                     9.7\n",
       "Steve Buscemi                   9.7"
      ]
     },
     "execution_count": 66,
     "metadata": {},
     "output_type": "execute_result"
    }
   ],
   "source": [
    "ustvarjalci = pd.merge(epizode, reziserji, left_on='id', right_on='id')\n",
    "ustvarjalci = ustvarjalci[['ocena', 'reziser']].groupby('reziser')\n",
    "ustvarjalci = ustvarjalci.mean().sort_values('ocena', ascending = False)\n",
    "ustvarjalci = ustvarjalci.rename(index=str, columns = {'ocena': 'povprecna_ocena'})\n",
    "ustvarjalci[:10]"
   ]
  },
  {
   "cell_type": "markdown",
   "metadata": {},
   "source": [
    "Zgornja razpredelnica prikazuje režiserje, ki imajo v povprečju najbolje ocenjene epizode, ki jih režirajo. Ker pa se mi je med obravnavo razpredelnice dozdevalo, da prihaja do podobnega problema kot pri analizi najbolje ocenjenih serij, bomo ponovili podoben postopek kot prej, torej bomo obravnavali le režiserje, ki so režirali dovoljšnje število epizod."
   ]
  },
  {
   "cell_type": "code",
   "execution_count": 67,
   "metadata": {},
   "outputs": [
    {
     "data": {
      "text/html": [
       "<div>\n",
       "<style scoped>\n",
       "    .dataframe tbody tr th:only-of-type {\n",
       "        vertical-align: middle;\n",
       "    }\n",
       "\n",
       "    .dataframe tbody tr th {\n",
       "        vertical-align: top;\n",
       "    }\n",
       "\n",
       "    .dataframe thead th {\n",
       "        text-align: right;\n",
       "    }\n",
       "</style>\n",
       "<table border=\"1\" class=\"dataframe\">\n",
       "  <thead>\n",
       "    <tr style=\"text-align: right;\">\n",
       "      <th></th>\n",
       "      <th>povprecna_ocena</th>\n",
       "      <th>st_ponovitev</th>\n",
       "    </tr>\n",
       "    <tr>\n",
       "      <th>reziser</th>\n",
       "      <th></th>\n",
       "      <th></th>\n",
       "    </tr>\n",
       "  </thead>\n",
       "  <tbody>\n",
       "    <tr>\n",
       "      <th>Shingo Natsume</th>\n",
       "      <td>9.466667</td>\n",
       "      <td>6</td>\n",
       "    </tr>\n",
       "    <tr>\n",
       "      <th>Chris Fisher</th>\n",
       "      <td>9.321429</td>\n",
       "      <td>14</td>\n",
       "    </tr>\n",
       "    <tr>\n",
       "      <th>Cary Joji Fukunaga</th>\n",
       "      <td>9.300000</td>\n",
       "      <td>8</td>\n",
       "    </tr>\n",
       "    <tr>\n",
       "      <th>Matt Shakman</th>\n",
       "      <td>9.222222</td>\n",
       "      <td>9</td>\n",
       "    </tr>\n",
       "    <tr>\n",
       "      <th>Tetsurô Araki</th>\n",
       "      <td>9.183333</td>\n",
       "      <td>6</td>\n",
       "    </tr>\n",
       "    <tr>\n",
       "      <th>Peter Gould</th>\n",
       "      <td>9.160000</td>\n",
       "      <td>5</td>\n",
       "    </tr>\n",
       "    <tr>\n",
       "      <th>Vince Gilligan</th>\n",
       "      <td>9.136364</td>\n",
       "      <td>11</td>\n",
       "    </tr>\n",
       "    <tr>\n",
       "      <th>Frederick E.O. Toye</th>\n",
       "      <td>9.100000</td>\n",
       "      <td>11</td>\n",
       "    </tr>\n",
       "    <tr>\n",
       "      <th>David Caffrey</th>\n",
       "      <td>9.100000</td>\n",
       "      <td>6</td>\n",
       "    </tr>\n",
       "    <tr>\n",
       "      <th>Mimi Leder</th>\n",
       "      <td>9.070000</td>\n",
       "      <td>10</td>\n",
       "    </tr>\n",
       "  </tbody>\n",
       "</table>\n",
       "</div>"
      ],
      "text/plain": [
       "                     povprecna_ocena  st_ponovitev\n",
       "reziser                                           \n",
       "Shingo Natsume              9.466667             6\n",
       "Chris Fisher                9.321429            14\n",
       "Cary Joji Fukunaga          9.300000             8\n",
       "Matt Shakman                9.222222             9\n",
       "Tetsurô Araki               9.183333             6\n",
       "Peter Gould                 9.160000             5\n",
       "Vince Gilligan              9.136364            11\n",
       "Frederick E.O. Toye         9.100000            11\n",
       "David Caffrey               9.100000             6\n",
       "Mimi Leder                  9.070000            10"
      ]
     },
     "execution_count": 67,
     "metadata": {},
     "output_type": "execute_result"
    }
   ],
   "source": [
    "ustvarjalci2 = pd.merge(epizode, reziserji, left_on='id', right_on='id')\n",
    "ustvarjalci2 = ustvarjalci2[['ocena', 'reziser']].groupby('reziser').count()\n",
    "ustvarjalci2 = ustvarjalci2.rename(index=str, columns = {'ocena': 'st_ponovitev'})\n",
    "ustvarjalci2 = pd.merge(ustvarjalci, ustvarjalci2, left_on='reziser', right_on='reziser')\n",
    "ustvarjalci2 = ustvarjalci2[ustvarjalci2.st_ponovitev >= 5]\n",
    "ustvarjalci2[:10]"
   ]
  },
  {
   "cell_type": "markdown",
   "metadata": {},
   "source": [
    "Na podoben način kot pri serijah smo se omejili na režiserje, ki so režirali vsaj 5 epizod z dovoljšnim številom glasov. Pridemo do podobnega sklepa, da so imeli najboljše povprečne ocene res režiserji z manjšim številom epizod. Če pa si ogledamo le tiste, ki so se pojavili dovoljkrat, ugotovimo, da je najbolj uspešen Shingo Natsume, sledita pa mu Chris Fisher in Cary Joji Fukunaga. \n",
    "\n",
    "Na tem mestu omenimo še zanimivost, da je Shingo Natsume znan predvsem po režiranju epizod serije One Punch Man, za katero smo prej prav tako ugotovili, da je najbolje povprečno ocenjena serija."
   ]
  },
  {
   "cell_type": "markdown",
   "metadata": {},
   "source": [
    "### 5. hipoteza\n",
    "\n",
    "Kakšna je povezava med številom glasov in oceno?"
   ]
  },
  {
   "cell_type": "code",
   "execution_count": 68,
   "metadata": {},
   "outputs": [
    {
     "data": {
      "text/plain": [
       "[Text(0, 0.5, 'Ocena'), Text(0.5, 0, 'Število glasov')]"
      ]
     },
     "execution_count": 68,
     "metadata": {},
     "output_type": "execute_result"
    },
    {
     "data": {
      "image/png": "[encoded data removed]",
      "text/plain": [
       "<Figure size 432x288 with 1 Axes>"
      ]
     },
     "metadata": {
      "needs_background": "light"
     },
     "output_type": "display_data"
    }
   ],
   "source": [
    "epizode[(epizode.st_glasov < 60000) & (epizode.ocena > 3)].plot.scatter('st_glasov','ocena', color = 'hotpink', title = 'Povezava med oceno in številom glasov').set(xlabel='Število glasov', ylabel='Ocena')"
   ]
  },
  {
   "cell_type": "markdown",
   "metadata": {},
   "source": [
    "Pri obravnavi povezave med oceno in številom glasov se zaradi večje preglednosti znebimo parih izjem; to so epizode z res veliko večjim številom glasov (te so zelo dobro ocenjene) ter epizode z zelo nizkimi ocenami (te pa so imele malo število glasov) in opazimo, da so večinoma kakovost epizode narašča s številom glasov. Tiste, ki imajo veliko glasov so dobro ocenjene, za epizode z malo glasovi pa velja, da so lahko zelo slabo ocenjene, vendar pa so lahko ocenjene tudi zelo dobro. \n",
    "\n",
    "Dodajmo še komentar, da vse epizode, katerih zaradi prevelikega števila glasov nismo upoštevali, pripadajo bodisi seriji Kriva pota bodisi Igri prestolov, ki veljata za eni izmed najboljših in najbolj popularnih serij našega časa, kar je seveda tudi razlog za tako številčno ocenjevanje."
   ]
  },
  {
   "cell_type": "markdown",
   "metadata": {},
   "source": [
    "### 6. hipoteza\n",
    "\n",
    "Ali z se z leti kakovost serij izboljšuje?"
   ]
  },
  {
   "cell_type": "code",
   "execution_count": 69,
   "metadata": {},
   "outputs": [
    {
     "data": {
      "text/plain": [
       "<matplotlib.legend.Legend at 0xc8b2ef0>"
      ]
     },
     "execution_count": 69,
     "metadata": {},
     "output_type": "execute_result"
    },
    {
     "data": {
      "image/png": "[encoded data removed]",
      "text/plain": [
       "<Figure size 432x288 with 1 Axes>"
      ]
     },
     "metadata": {
      "needs_background": "light"
     },
     "output_type": "display_data"
    }
   ],
   "source": [
    "kakovost = epizode[['leto', 'ocena', 'petletje']]\n",
    "kakovost1 = kakovost[['leto', 'ocena']].groupby('leto').mean()\n",
    "kakovost2 = kakovost[['petletje', 'ocena']].groupby('petletje').mean()\n",
    "\n",
    "plt.plot(kakovost1, color = 'g', lw = 3)\n",
    "plt.plot(kakovost2, color = 'purple', lw = 3)\n",
    "plt.title('Spreminjanje povprečne letne ocene')\n",
    "plt.xlabel('Leto')\n",
    "plt.ylabel('Ocena')\n",
    "plt.legend(['Po letih', 'Po petletjih'])"
   ]
  },
  {
   "cell_type": "markdown",
   "metadata": {},
   "source": [
    "Graf gibanja povprečne letne ocene nam pove, da se dejansko kakovost epizod oziroma serij z leti v povprečju ne povečuje, vendar pa je vseeno vse bolj konstantna oziroma ima prisotnih vse manj izrazitih nihanj. Nekaj zaslug za tak graf bi najbrž lahko pripisali dejstvu, da so od starejših serij bolj gledane in ocenjene predvsem najboljše epizode serij, prav tako pa se kvantiteta epizod z leti povečuje, kar smo ugotovili v 3. hipotezi. Zaradi tega bo vsaka nadpovprečno dobra ali nadpovprečno slaba epizoda imela v kasnejših letih manjši vpliv na povprečno letno oceno, kar zagotovo prispeva k vse manjšemu nihanju.\n",
    "\n",
    "Opazimo lahko tudi, da smo se z prikazom povprečne ocene epizod glede na petletje večine nihanja znebili, sicer pa je oblika grafa precej podobna prvotnemu. Zaradi zaokroževanja pri petletjih seveda pride tudi do delnih zamikov."
   ]
  },
  {
   "cell_type": "markdown",
   "metadata": {},
   "source": [
    "## Komične vs nekomične serije\n",
    "\n",
    "V zadnjem razdelku pa si bomo, kot sem si to zadal v zasnovi projektne naloge, ogledali primerjavo med komičnimi in nekomičnimi serijami.\n",
    "\n",
    "Za začetek si oglejmo, če moja hipoteza o povezavi med trajanjem posamezne epizode in njenim žanrom sploh res drži, t.j. če imajo vse epizode komičnih serij trejanje res manjše od 30 min oz. če imajo vse nekomične serije trajanje epizod nad 30 minutami."
   ]
  },
  {
   "cell_type": "code",
   "execution_count": 70,
   "metadata": {},
   "outputs": [
    {
     "data": {
      "text/html": [
       "<div>\n",
       "<style scoped>\n",
       "    .dataframe tbody tr th:only-of-type {\n",
       "        vertical-align: middle;\n",
       "    }\n",
       "\n",
       "    .dataframe tbody tr th {\n",
       "        vertical-align: top;\n",
       "    }\n",
       "\n",
       "    .dataframe thead th {\n",
       "        text-align: right;\n",
       "    }\n",
       "</style>\n",
       "<table border=\"1\" class=\"dataframe\">\n",
       "  <thead>\n",
       "    <tr style=\"text-align: right;\">\n",
       "      <th></th>\n",
       "      <th>serija</th>\n",
       "      <th>epizoda</th>\n",
       "      <th>dolzina</th>\n",
       "      <th>ocena</th>\n",
       "      <th>st_glasov</th>\n",
       "      <th>zanr</th>\n",
       "    </tr>\n",
       "  </thead>\n",
       "  <tbody>\n",
       "    <tr>\n",
       "      <th>100</th>\n",
       "      <td>Delo na crno</td>\n",
       "      <td>Moonlighting (Pilot)</td>\n",
       "      <td>93</td>\n",
       "      <td>7.5</td>\n",
       "      <td>2135</td>\n",
       "      <td>Comedy</td>\n",
       "    </tr>\n",
       "    <tr>\n",
       "      <th>103</th>\n",
       "      <td>American Playhouse</td>\n",
       "      <td>Overdrawn at the Memory Bank</td>\n",
       "      <td>83</td>\n",
       "      <td>2.2</td>\n",
       "      <td>2245</td>\n",
       "      <td>Comedy</td>\n",
       "    </tr>\n",
       "    <tr>\n",
       "      <th>106</th>\n",
       "      <td>American Playhouse</td>\n",
       "      <td>Into the Woods</td>\n",
       "      <td>151</td>\n",
       "      <td>8.4</td>\n",
       "      <td>2875</td>\n",
       "      <td>Comedy</td>\n",
       "    </tr>\n",
       "    <tr>\n",
       "      <th>217</th>\n",
       "      <td>The Wonderful World of Disney</td>\n",
       "      <td>Cinderella</td>\n",
       "      <td>88</td>\n",
       "      <td>6.5</td>\n",
       "      <td>5208</td>\n",
       "      <td>Comedy</td>\n",
       "    </tr>\n",
       "    <tr>\n",
       "      <th>220</th>\n",
       "      <td>The Wonderful World of Disney</td>\n",
       "      <td>Tower of Terror</td>\n",
       "      <td>89</td>\n",
       "      <td>6.3</td>\n",
       "      <td>2967</td>\n",
       "      <td>Comedy</td>\n",
       "    </tr>\n",
       "    <tr>\n",
       "      <th>...</th>\n",
       "      <td>...</td>\n",
       "      <td>...</td>\n",
       "      <td>...</td>\n",
       "      <td>...</td>\n",
       "      <td>...</td>\n",
       "      <td>...</td>\n",
       "    </tr>\n",
       "    <tr>\n",
       "      <th>10037</th>\n",
       "      <td>The Orville</td>\n",
       "      <td>Pria</td>\n",
       "      <td>44</td>\n",
       "      <td>8.0</td>\n",
       "      <td>2170</td>\n",
       "      <td>Comedy</td>\n",
       "    </tr>\n",
       "    <tr>\n",
       "      <th>10040</th>\n",
       "      <td>The Orville</td>\n",
       "      <td>Krill</td>\n",
       "      <td>44</td>\n",
       "      <td>8.1</td>\n",
       "      <td>2053</td>\n",
       "      <td>Comedy</td>\n",
       "    </tr>\n",
       "    <tr>\n",
       "      <th>10043</th>\n",
       "      <td>The Orville</td>\n",
       "      <td>Majority Rule</td>\n",
       "      <td>43</td>\n",
       "      <td>8.4</td>\n",
       "      <td>2330</td>\n",
       "      <td>Comedy</td>\n",
       "    </tr>\n",
       "    <tr>\n",
       "      <th>10146</th>\n",
       "      <td>Master of None</td>\n",
       "      <td>Thanksgiving</td>\n",
       "      <td>34</td>\n",
       "      <td>9.5</td>\n",
       "      <td>2075</td>\n",
       "      <td>Comedy</td>\n",
       "    </tr>\n",
       "    <tr>\n",
       "      <th>10147</th>\n",
       "      <td>Master of None</td>\n",
       "      <td>Amarsi Un Po</td>\n",
       "      <td>57</td>\n",
       "      <td>9.5</td>\n",
       "      <td>2106</td>\n",
       "      <td>Comedy</td>\n",
       "    </tr>\n",
       "  </tbody>\n",
       "</table>\n",
       "<p>99 rows × 6 columns</p>\n",
       "</div>"
      ],
      "text/plain": [
       "                              serija                       epizoda  dolzina  \\\n",
       "100                     Delo na crno          Moonlighting (Pilot)       93   \n",
       "103               American Playhouse  Overdrawn at the Memory Bank       83   \n",
       "106               American Playhouse                Into the Woods      151   \n",
       "217    The Wonderful World of Disney                    Cinderella       88   \n",
       "220    The Wonderful World of Disney               Tower of Terror       89   \n",
       "...                              ...                           ...      ...   \n",
       "10037                    The Orville                          Pria       44   \n",
       "10040                    The Orville                         Krill       44   \n",
       "10043                    The Orville                 Majority Rule       43   \n",
       "10146                 Master of None                  Thanksgiving       34   \n",
       "10147                 Master of None                  Amarsi Un Po       57   \n",
       "\n",
       "       ocena  st_glasov    zanr  \n",
       "100      7.5       2135  Comedy  \n",
       "103      2.2       2245  Comedy  \n",
       "106      8.4       2875  Comedy  \n",
       "217      6.5       5208  Comedy  \n",
       "220      6.3       2967  Comedy  \n",
       "...      ...        ...     ...  \n",
       "10037    8.0       2170  Comedy  \n",
       "10040    8.1       2053  Comedy  \n",
       "10043    8.4       2330  Comedy  \n",
       "10146    9.5       2075  Comedy  \n",
       "10147    9.5       2106  Comedy  \n",
       "\n",
       "[99 rows x 6 columns]"
      ]
     },
     "execution_count": 70,
     "metadata": {},
     "output_type": "execute_result"
    }
   ],
   "source": [
    "izjeme = pd.merge(epizode, zanri, left_on='serija', right_on='serija')\n",
    "izjeme = izjeme[['serija', 'epizoda', 'dolzina', 'ocena', 'st_glasov', 'zanr']]\n",
    "izjeme[(izjeme.dolzina > 30) & (izjeme.zanr == 'Comedy')]"
   ]
  },
  {
   "cell_type": "markdown",
   "metadata": {},
   "source": [
    "Očitno moja hipoteza ne drži za vse serije. Iz zgornje preglednice je namreč razvidno, da moja hipoteza ne drži v vseh primerih, saj imamo kar 99 primerov epizod, za katere ne velja, da so komične ter da je njihova dolžina manj kot 30 min. Z nekaj več dela lahko ugotovimo tudi, da je prisotnih tudi kar precej epizod, ki niso komedije, njihovo trajanje pa je manjše kot pol ure. Ker pa so takšne epizode še vedno bolj izjema, kot pravilo, si bomo vseeno ogledali primerjavo med komedijami in nekomičnimi serijami, le da v resnici niti ne bomo potrebovali hipoteze o trajanju."
   ]
  },
  {
   "cell_type": "code",
   "execution_count": 71,
   "metadata": {},
   "outputs": [
    {
     "data": {
      "text/html": [
       "<div>\n",
       "<style scoped>\n",
       "    .dataframe tbody tr th:only-of-type {\n",
       "        vertical-align: middle;\n",
       "    }\n",
       "\n",
       "    .dataframe tbody tr th {\n",
       "        vertical-align: top;\n",
       "    }\n",
       "\n",
       "    .dataframe thead th {\n",
       "        text-align: right;\n",
       "    }\n",
       "</style>\n",
       "<table border=\"1\" class=\"dataframe\">\n",
       "  <thead>\n",
       "    <tr style=\"text-align: right;\">\n",
       "      <th></th>\n",
       "      <th>serija</th>\n",
       "      <th>epizoda</th>\n",
       "      <th>dolzina</th>\n",
       "      <th>ocena</th>\n",
       "      <th>st_glasov</th>\n",
       "    </tr>\n",
       "  </thead>\n",
       "  <tbody>\n",
       "    <tr>\n",
       "      <th>0</th>\n",
       "      <td>Delo na crno</td>\n",
       "      <td>Moonlighting (Pilot)</td>\n",
       "      <td>93</td>\n",
       "      <td>7.5</td>\n",
       "      <td>2135</td>\n",
       "    </tr>\n",
       "    <tr>\n",
       "      <th>1</th>\n",
       "      <td>American Playhouse</td>\n",
       "      <td>Overdrawn at the Memory Bank</td>\n",
       "      <td>83</td>\n",
       "      <td>2.2</td>\n",
       "      <td>2245</td>\n",
       "    </tr>\n",
       "    <tr>\n",
       "      <th>2</th>\n",
       "      <td>American Playhouse</td>\n",
       "      <td>Into the Woods</td>\n",
       "      <td>151</td>\n",
       "      <td>8.4</td>\n",
       "      <td>2875</td>\n",
       "    </tr>\n",
       "    <tr>\n",
       "      <th>3</th>\n",
       "      <td>Seinfeld</td>\n",
       "      <td>Good News, Bad News</td>\n",
       "      <td>23</td>\n",
       "      <td>7.8</td>\n",
       "      <td>2642</td>\n",
       "    </tr>\n",
       "    <tr>\n",
       "      <th>4</th>\n",
       "      <td>Seinfeld</td>\n",
       "      <td>The Betrayal</td>\n",
       "      <td>24</td>\n",
       "      <td>9.0</td>\n",
       "      <td>2075</td>\n",
       "    </tr>\n",
       "    <tr>\n",
       "      <th>...</th>\n",
       "      <td>...</td>\n",
       "      <td>...</td>\n",
       "      <td>...</td>\n",
       "      <td>...</td>\n",
       "      <td>...</td>\n",
       "    </tr>\n",
       "    <tr>\n",
       "      <th>903</th>\n",
       "      <td>Master of None</td>\n",
       "      <td>Amarsi Un Po</td>\n",
       "      <td>57</td>\n",
       "      <td>9.5</td>\n",
       "      <td>2106</td>\n",
       "    </tr>\n",
       "    <tr>\n",
       "      <th>904</th>\n",
       "      <td>The End of the F***ing World</td>\n",
       "      <td>Episode #1.1</td>\n",
       "      <td>18</td>\n",
       "      <td>8.1</td>\n",
       "      <td>2319</td>\n",
       "    </tr>\n",
       "    <tr>\n",
       "      <th>905</th>\n",
       "      <td>The End of the F***ing World</td>\n",
       "      <td>Episode #1.2</td>\n",
       "      <td>22</td>\n",
       "      <td>7.8</td>\n",
       "      <td>2035</td>\n",
       "    </tr>\n",
       "    <tr>\n",
       "      <th>906</th>\n",
       "      <td>The End of the F***ing World</td>\n",
       "      <td>Episode #1.3</td>\n",
       "      <td>21</td>\n",
       "      <td>8.6</td>\n",
       "      <td>2205</td>\n",
       "    </tr>\n",
       "    <tr>\n",
       "      <th>907</th>\n",
       "      <td>The End of the F***ing World</td>\n",
       "      <td>Episode #1.8</td>\n",
       "      <td>19</td>\n",
       "      <td>8.9</td>\n",
       "      <td>2204</td>\n",
       "    </tr>\n",
       "  </tbody>\n",
       "</table>\n",
       "<p>908 rows × 5 columns</p>\n",
       "</div>"
      ],
      "text/plain": [
       "                           serija                       epizoda  dolzina  \\\n",
       "0                    Delo na crno          Moonlighting (Pilot)       93   \n",
       "1              American Playhouse  Overdrawn at the Memory Bank       83   \n",
       "2              American Playhouse                Into the Woods      151   \n",
       "3                        Seinfeld           Good News, Bad News       23   \n",
       "4                        Seinfeld                  The Betrayal       24   \n",
       "..                            ...                           ...      ...   \n",
       "903                Master of None                  Amarsi Un Po       57   \n",
       "904  The End of the F***ing World                  Episode #1.1       18   \n",
       "905  The End of the F***ing World                  Episode #1.2       22   \n",
       "906  The End of the F***ing World                  Episode #1.3       21   \n",
       "907  The End of the F***ing World                  Episode #1.8       19   \n",
       "\n",
       "     ocena  st_glasov  \n",
       "0      7.5       2135  \n",
       "1      2.2       2245  \n",
       "2      8.4       2875  \n",
       "3      7.8       2642  \n",
       "4      9.0       2075  \n",
       "..     ...        ...  \n",
       "903    9.5       2106  \n",
       "904    8.1       2319  \n",
       "905    7.8       2035  \n",
       "906    8.6       2205  \n",
       "907    8.9       2204  \n",
       "\n",
       "[908 rows x 5 columns]"
      ]
     },
     "execution_count": 71,
     "metadata": {},
     "output_type": "execute_result"
    }
   ],
   "source": [
    "komedije = zanri[zanri.zanr == 'Comedy']\n",
    "komedije = pd.merge(epizode, komedije, left_on='serija', right_on='serija')\n",
    "komedije = komedije[['serija', 'epizoda', 'dolzina', 'ocena', 'st_glasov']]\n",
    "komedije"
   ]
  },
  {
   "cell_type": "code",
   "execution_count": 72,
   "metadata": {},
   "outputs": [
    {
     "data": {
      "text/html": [
       "<div>\n",
       "<style scoped>\n",
       "    .dataframe tbody tr th:only-of-type {\n",
       "        vertical-align: middle;\n",
       "    }\n",
       "\n",
       "    .dataframe tbody tr th {\n",
       "        vertical-align: top;\n",
       "    }\n",
       "\n",
       "    .dataframe thead th {\n",
       "        text-align: right;\n",
       "    }\n",
       "</style>\n",
       "<table border=\"1\" class=\"dataframe\">\n",
       "  <thead>\n",
       "    <tr style=\"text-align: right;\">\n",
       "      <th></th>\n",
       "      <th>serija</th>\n",
       "      <th>epizoda</th>\n",
       "      <th>dolzina</th>\n",
       "      <th>ocena</th>\n",
       "      <th>st_glasov</th>\n",
       "    </tr>\n",
       "  </thead>\n",
       "  <tbody>\n",
       "    <tr>\n",
       "      <th>0</th>\n",
       "      <td>Star Trek</td>\n",
       "      <td>The Cage</td>\n",
       "      <td>63</td>\n",
       "      <td>7.7</td>\n",
       "      <td>4159</td>\n",
       "    </tr>\n",
       "    <tr>\n",
       "      <th>3</th>\n",
       "      <td>Star Trek</td>\n",
       "      <td>Where No Man Has Gone Before</td>\n",
       "      <td>50</td>\n",
       "      <td>7.8</td>\n",
       "      <td>3747</td>\n",
       "    </tr>\n",
       "    <tr>\n",
       "      <th>6</th>\n",
       "      <td>Star Trek</td>\n",
       "      <td>The Conscience of the King</td>\n",
       "      <td>50</td>\n",
       "      <td>7.3</td>\n",
       "      <td>2136</td>\n",
       "    </tr>\n",
       "    <tr>\n",
       "      <th>9</th>\n",
       "      <td>Star Trek</td>\n",
       "      <td>The Menagerie: Part I</td>\n",
       "      <td>50</td>\n",
       "      <td>8.4</td>\n",
       "      <td>2431</td>\n",
       "    </tr>\n",
       "    <tr>\n",
       "      <th>12</th>\n",
       "      <td>Star Trek</td>\n",
       "      <td>Miri</td>\n",
       "      <td>50</td>\n",
       "      <td>7.1</td>\n",
       "      <td>2348</td>\n",
       "    </tr>\n",
       "    <tr>\n",
       "      <th>...</th>\n",
       "      <td>...</td>\n",
       "      <td>...</td>\n",
       "      <td>...</td>\n",
       "      <td>...</td>\n",
       "      <td>...</td>\n",
       "    </tr>\n",
       "    <tr>\n",
       "      <th>8389</th>\n",
       "      <td>The Haunting of Hill House</td>\n",
       "      <td>Touch</td>\n",
       "      <td>53</td>\n",
       "      <td>8.8</td>\n",
       "      <td>2228</td>\n",
       "    </tr>\n",
       "    <tr>\n",
       "      <th>8392</th>\n",
       "      <td>The Haunting of Hill House</td>\n",
       "      <td>Open Casket</td>\n",
       "      <td>51</td>\n",
       "      <td>8.1</td>\n",
       "      <td>2259</td>\n",
       "    </tr>\n",
       "    <tr>\n",
       "      <th>8395</th>\n",
       "      <td>The Haunting of Hill House</td>\n",
       "      <td>The Bent-Neck Lady</td>\n",
       "      <td>70</td>\n",
       "      <td>9.5</td>\n",
       "      <td>3383</td>\n",
       "    </tr>\n",
       "    <tr>\n",
       "      <th>8398</th>\n",
       "      <td>The Haunting of Hill House</td>\n",
       "      <td>Two Storms</td>\n",
       "      <td>57</td>\n",
       "      <td>9.5</td>\n",
       "      <td>3026</td>\n",
       "    </tr>\n",
       "    <tr>\n",
       "      <th>8401</th>\n",
       "      <td>Castle Rock</td>\n",
       "      <td>The Queen</td>\n",
       "      <td>59</td>\n",
       "      <td>9.2</td>\n",
       "      <td>2322</td>\n",
       "    </tr>\n",
       "  </tbody>\n",
       "</table>\n",
       "<p>2932 rows × 5 columns</p>\n",
       "</div>"
      ],
      "text/plain": [
       "                          serija                       epizoda  dolzina  \\\n",
       "0                      Star Trek                      The Cage       63   \n",
       "3                      Star Trek  Where No Man Has Gone Before       50   \n",
       "6                      Star Trek    The Conscience of the King       50   \n",
       "9                      Star Trek         The Menagerie: Part I       50   \n",
       "12                     Star Trek                          Miri       50   \n",
       "...                          ...                           ...      ...   \n",
       "8389  The Haunting of Hill House                         Touch       53   \n",
       "8392  The Haunting of Hill House                   Open Casket       51   \n",
       "8395  The Haunting of Hill House            The Bent-Neck Lady       70   \n",
       "8398  The Haunting of Hill House                    Two Storms       57   \n",
       "8401                 Castle Rock                     The Queen       59   \n",
       "\n",
       "      ocena  st_glasov  \n",
       "0       7.7       4159  \n",
       "3       7.8       3747  \n",
       "6       7.3       2136  \n",
       "9       8.4       2431  \n",
       "12      7.1       2348  \n",
       "...     ...        ...  \n",
       "8389    8.8       2228  \n",
       "8392    8.1       2259  \n",
       "8395    9.5       3383  \n",
       "8398    9.5       3026  \n",
       "8401    9.2       2322  \n",
       "\n",
       "[2932 rows x 5 columns]"
      ]
     },
     "execution_count": 72,
     "metadata": {},
     "output_type": "execute_result"
    }
   ],
   "source": [
    "ostale = zanri\n",
    "for element in list(komedije.serija):\n",
    "    ostale = ostale[ostale.serija != element]\n",
    "ostale = pd.merge(epizode, ostale, left_on='serija', right_on='serija')\n",
    "ostale = ostale[['serija', 'epizoda', 'dolzina', 'ocena', 'st_glasov']].drop_duplicates()\n",
    "ostale"
   ]
  },
  {
   "cell_type": "markdown",
   "metadata": {},
   "source": [
    "Vse epizode smo torej razdelili v razpredelnici `komedije`, ki vsebuje vse epizode oz. serije žanra komedija ter `ostale`, ki vsebuje vse serije, ki niso komične. S pomočjo teh dveh tabel bomo torej lahko prišli do primerjav med želenima kategorijama.\n",
    "\n",
    "*Komentar*: Z zapisom `ostale[ostale.dolzina < 30]` lahko ugotovimo, da je število nekomičnih epizod s trajanjem manj kot 30 min enako 96. To število je zelo podobno številu prej omenjenih izjem, torej moja hipoteza o povezavi trajanja in žanra v večini primerov res drži."
   ]
  },
  {
   "cell_type": "code",
   "execution_count": 73,
   "metadata": {},
   "outputs": [
    {
     "data": {
      "text/plain": [
       "26.662"
      ]
     },
     "execution_count": 73,
     "metadata": {},
     "output_type": "execute_result"
    }
   ],
   "source": [
    "round(komedije['dolzina'].mean(), 3)"
   ]
  },
  {
   "cell_type": "code",
   "execution_count": 74,
   "metadata": {},
   "outputs": [
    {
     "data": {
      "text/plain": [
       "49.321"
      ]
     },
     "execution_count": 74,
     "metadata": {},
     "output_type": "execute_result"
    }
   ],
   "source": [
    "round(ostale['dolzina'].mean(), 3)"
   ]
  },
  {
   "cell_type": "markdown",
   "metadata": {},
   "source": [
    "Če si ogledamo še povprečno trajanje posamezne kategorije, res ugotovimo, da je povprečno trajanje epizode komičnih serij manjše kot 30 minut, povprečno trajanje epizod ostalih zvrsti pa to mejo krepko presega."
   ]
  },
  {
   "cell_type": "markdown",
   "metadata": {},
   "source": [
    "### Primerjava ocen"
   ]
  },
  {
   "cell_type": "code",
   "execution_count": 75,
   "metadata": {},
   "outputs": [
    {
     "name": "stdout",
     "output_type": "stream",
     "text": [
      "8.486\n"
     ]
    },
    {
     "data": {
      "text/plain": [
       "0.692"
      ]
     },
     "execution_count": 75,
     "metadata": {},
     "output_type": "execute_result"
    }
   ],
   "source": [
    "print(round(komedije['ocena'].mean(), 3))\n",
    "round(komedije['ocena'].std(), 3)"
   ]
  },
  {
   "cell_type": "code",
   "execution_count": 76,
   "metadata": {},
   "outputs": [
    {
     "name": "stdout",
     "output_type": "stream",
     "text": [
      "8.524\n"
     ]
    },
    {
     "data": {
      "text/plain": [
       "0.687"
      ]
     },
     "execution_count": 76,
     "metadata": {},
     "output_type": "execute_result"
    }
   ],
   "source": [
    "print(round(ostale['ocena'].mean(), 3))\n",
    "round(ostale['ocena'].std(), 3)"
   ]
  },
  {
   "cell_type": "markdown",
   "metadata": {},
   "source": [
    "Iz primerjave ocen lahko ugotovimo, da so v povprečju rahlo bolje ocenjene nekomične epizode ozirmoma serije, vendar je razlika med ocenama res minimalna. Prav tako je standardni odklon za obe količini približno enako velik, njegova velikost pa tudi ni preveč presenetljiva ali zanimiva."
   ]
  },
  {
   "cell_type": "markdown",
   "metadata": {},
   "source": [
    "### Primerjava gledanosti"
   ]
  },
  {
   "cell_type": "code",
   "execution_count": 77,
   "metadata": {},
   "outputs": [
    {
     "name": "stdout",
     "output_type": "stream",
     "text": [
      "2734.1\n"
     ]
    },
    {
     "data": {
      "text/plain": [
       "1305.5"
      ]
     },
     "execution_count": 77,
     "metadata": {},
     "output_type": "execute_result"
    }
   ],
   "source": [
    "print(round(komedije['st_glasov'].mean(), 1))\n",
    "round(komedije['st_glasov'].std(), 1)"
   ]
  },
  {
   "cell_type": "code",
   "execution_count": 78,
   "metadata": {},
   "outputs": [
    {
     "name": "stdout",
     "output_type": "stream",
     "text": [
      "4657.7\n"
     ]
    },
    {
     "data": {
      "text/plain": [
       "6356.4"
      ]
     },
     "execution_count": 78,
     "metadata": {},
     "output_type": "execute_result"
    }
   ],
   "source": [
    "print(round(ostale['st_glasov'].mean(), 1))\n",
    "round(ostale['st_glasov'].std(), 1)"
   ]
  },
  {
   "cell_type": "markdown",
   "metadata": {},
   "source": [
    "Pri primerjavi gledanosti pa hitro opazimo, da je povprečno število glasov pri komedijah skoraj dvakrat manjše kot povprečno število glasov pri ostalih žanrih. Iz tega bi lahko sklepali, da so nekomične serije bolj gledane kot komične, ali pa vsaj, da jim je njihov povprečni gledalec bolj naklonjen in si je zato pripravljen vzeti nekaj časa za oddajo svoje ocene epizod na spletni strani IMDb.\n",
    "\n",
    "Pri obravnavi standardnega odklona pa ugotovimo, da je pri komedijah le-ta skoraj 50%, torej zelo velik. Še večji pa je pri nekomičnih serijah, saj presega 100%. To je na nek način kar pričakovan podatek, saj se število glasov pri epizodah precej razlikuje, poleg tega pa imamo nekaj epizod, ki res močno presegajo povprečje, kar smo opazili že pri obravnavi primerjave med številom glasov in oceno."
   ]
  }
 ],
 "metadata": {
  "kernelspec": {
   "display_name": "Python 3",
   "language": "python",
   "name": "python3"
  },
  "language_info": {
   "codemirror_mode": {
    "name": "ipython",
    "version": 3
   },
   "file_extension": ".py",
   "mimetype": "text/x-python",
   "name": "python",
   "nbconvert_exporter": "python",
   "pygments_lexer": "ipython3",
   "version": "3.7.0"
  }
 },
 "nbformat": 4,
 "nbformat_minor": 2
}

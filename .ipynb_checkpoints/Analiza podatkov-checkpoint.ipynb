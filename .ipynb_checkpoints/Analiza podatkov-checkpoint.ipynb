{
 "cells": [
  {
   "cell_type": "markdown",
   "metadata": {},
   "source": [
    "# Obdelava podatkov"
   ]
  },
  {
   "cell_type": "markdown",
   "metadata": {},
   "source": [
    "## Priprava\n",
    "\n",
    "Najprej uvozimo potrebna paketa in omejimo število izpisanih vrstic tabele, saj bomo delali z razpredelnicami velikih razsežnosti."
   ]
  },
  {
   "cell_type": "code",
   "execution_count": 89,
   "metadata": {},
   "outputs": [],
   "source": [
    "import pandas as pd\n",
    "import matplotlib\n",
    "import matplotlib.pyplot as plt\n",
    "pd.options.display.max_rows = 10"
   ]
  },
  {
   "cell_type": "markdown",
   "metadata": {},
   "source": [
    "## Uvoz podatkov\n",
    "\n",
    "Uvozimo podatke, ki smo jih predelali v datoteki `uvoz_podatkov.py`."
   ]
  },
  {
   "cell_type": "code",
   "execution_count": 5,
   "metadata": {},
   "outputs": [],
   "source": [
    "epizode = pd.read_csv('vse_epizode.csv', index_col=\"id\")\n",
    "reziserji = pd.read_csv('reziserji.csv', index_col=\"id\")\n",
    "zanri = pd.read_csv('zanri.csv')"
   ]
  },
  {
   "cell_type": "markdown",
   "metadata": {},
   "source": [
    "## Analiza podatkov\n",
    "\n",
    "V tem razdelku si bomo ogledali in testirali vse hipoteze, ki sem jih postavil v sami zasnovi projektne naloge. Hipoteze bomo preverjali v enakem vrstnem redu, kot so zapisane v opisu naloge."
   ]
  },
  {
   "cell_type": "markdown",
   "metadata": {},
   "source": [
    "### 1. hipoteza"
   ]
  },
  {
   "cell_type": "code",
   "execution_count": 6,
   "metadata": {},
   "outputs": [
    {
     "data": {
      "text/html": [
       "<div>\n",
       "<style scoped>\n",
       "    .dataframe tbody tr th:only-of-type {\n",
       "        vertical-align: middle;\n",
       "    }\n",
       "\n",
       "    .dataframe tbody tr th {\n",
       "        vertical-align: top;\n",
       "    }\n",
       "\n",
       "    .dataframe thead th {\n",
       "        text-align: right;\n",
       "    }\n",
       "</style>\n",
       "<table border=\"1\" class=\"dataframe\">\n",
       "  <thead>\n",
       "    <tr style=\"text-align: right;\">\n",
       "      <th></th>\n",
       "      <th>povprecna_ocena</th>\n",
       "    </tr>\n",
       "    <tr>\n",
       "      <th>serija</th>\n",
       "      <th></th>\n",
       "    </tr>\n",
       "  </thead>\n",
       "  <tbody>\n",
       "    <tr>\n",
       "      <th>LazyTown</th>\n",
       "      <td>10.0</td>\n",
       "    </tr>\n",
       "    <tr>\n",
       "      <th>Pod ruso</th>\n",
       "      <td>9.8</td>\n",
       "    </tr>\n",
       "    <tr>\n",
       "      <th>Avatar: The Last Airbender</th>\n",
       "      <td>9.8</td>\n",
       "    </tr>\n",
       "    <tr>\n",
       "      <th>Star Wars: Rebels</th>\n",
       "      <td>9.8</td>\n",
       "    </tr>\n",
       "    <tr>\n",
       "      <th>Gravity Falls</th>\n",
       "      <td>9.8</td>\n",
       "    </tr>\n",
       "    <tr>\n",
       "      <th>...</th>\n",
       "      <td>...</td>\n",
       "    </tr>\n",
       "    <tr>\n",
       "      <th>Vitez za volanom</th>\n",
       "      <td>6.0</td>\n",
       "    </tr>\n",
       "    <tr>\n",
       "      <th>Dva moza in pol</th>\n",
       "      <td>5.7</td>\n",
       "    </tr>\n",
       "    <tr>\n",
       "      <th>American Playhouse</th>\n",
       "      <td>5.3</td>\n",
       "    </tr>\n",
       "    <tr>\n",
       "      <th>Ljubke laznivke</th>\n",
       "      <td>4.7</td>\n",
       "    </tr>\n",
       "    <tr>\n",
       "      <th>Top Gear</th>\n",
       "      <td>2.1</td>\n",
       "    </tr>\n",
       "  </tbody>\n",
       "</table>\n",
       "<p>200 rows × 1 columns</p>\n",
       "</div>"
      ],
      "text/plain": [
       "                            povprecna_ocena\n",
       "serija                                     \n",
       "LazyTown                               10.0\n",
       "Pod ruso                                9.8\n",
       "Avatar: The Last Airbender              9.8\n",
       "Star Wars: Rebels                       9.8\n",
       "Gravity Falls                           9.8\n",
       "...                                     ...\n",
       "Vitez za volanom                        6.0\n",
       "Dva moza in pol                         5.7\n",
       "American Playhouse                      5.3\n",
       "Ljubke laznivke                         4.7\n",
       "Top Gear                                2.1\n",
       "\n",
       "[200 rows x 1 columns]"
      ]
     },
     "execution_count": 6,
     "metadata": {},
     "output_type": "execute_result"
    }
   ],
   "source": [
    "serije = epizode[['serija', 'ocena']].groupby('serija')\n",
    "serije = serije.mean().sort_values('ocena', ascending = False)\n",
    "serije = serije.rename(index=str, columns = {'ocena': 'povprecna_ocena'})\n",
    "serije"
   ]
  },
  {
   "cell_type": "markdown",
   "metadata": {},
   "source": [
    "Kot je iz razpredelnice razvidno, je v povprečju najbolje ocenjena serija LazyTown, sledita pa ji Pod rušo ter Avatar: The Last Airbender.\n",
    "\n",
    "Iz tabele serije ugotovimo, da imajo najboljše povprečne ocene serije, ki se ponovijo bolj malokrat. Iz tega lahko skepamo, da imajo dovoljšno število glasov pri teh serijah le najbolj popularne epizode. Zaradi tega ponovimo prejšnji postopek le za tiste serije, za katere imamo v prvotni tabeli vsaj 5 epizod."
   ]
  },
  {
   "cell_type": "code",
   "execution_count": 7,
   "metadata": {},
   "outputs": [
    {
     "data": {
      "text/html": [
       "<div>\n",
       "<style scoped>\n",
       "    .dataframe tbody tr th:only-of-type {\n",
       "        vertical-align: middle;\n",
       "    }\n",
       "\n",
       "    .dataframe tbody tr th {\n",
       "        vertical-align: top;\n",
       "    }\n",
       "\n",
       "    .dataframe thead th {\n",
       "        text-align: right;\n",
       "    }\n",
       "</style>\n",
       "<table border=\"1\" class=\"dataframe\">\n",
       "  <thead>\n",
       "    <tr style=\"text-align: right;\">\n",
       "      <th></th>\n",
       "      <th>povprecna_ocena</th>\n",
       "      <th>st_ponovitev</th>\n",
       "    </tr>\n",
       "    <tr>\n",
       "      <th>serija</th>\n",
       "      <th></th>\n",
       "      <th></th>\n",
       "    </tr>\n",
       "  </thead>\n",
       "  <tbody>\n",
       "    <tr>\n",
       "      <th>One Punch Man: Wanpanman</th>\n",
       "      <td>9.466667</td>\n",
       "      <td>6</td>\n",
       "    </tr>\n",
       "    <tr>\n",
       "      <th>How to Get Away with Murder</th>\n",
       "      <td>9.320000</td>\n",
       "      <td>5</td>\n",
       "    </tr>\n",
       "    <tr>\n",
       "      <th>Sinovi anarhije</th>\n",
       "      <td>9.300000</td>\n",
       "      <td>8</td>\n",
       "    </tr>\n",
       "    <tr>\n",
       "      <th>Futurama</th>\n",
       "      <td>9.240000</td>\n",
       "      <td>5</td>\n",
       "    </tr>\n",
       "    <tr>\n",
       "      <th>Nepremagljivi dvojec</th>\n",
       "      <td>9.238889</td>\n",
       "      <td>18</td>\n",
       "    </tr>\n",
       "    <tr>\n",
       "      <th>...</th>\n",
       "      <td>...</td>\n",
       "      <td>...</td>\n",
       "    </tr>\n",
       "    <tr>\n",
       "      <th>Family Guy</th>\n",
       "      <td>7.585714</td>\n",
       "      <td>7</td>\n",
       "    </tr>\n",
       "    <tr>\n",
       "      <th>Fear the Walking Dead</th>\n",
       "      <td>7.390476</td>\n",
       "      <td>21</td>\n",
       "    </tr>\n",
       "    <tr>\n",
       "      <th>Planet Earth</th>\n",
       "      <td>7.350000</td>\n",
       "      <td>8</td>\n",
       "    </tr>\n",
       "    <tr>\n",
       "      <th>Masters of Horror</th>\n",
       "      <td>6.321053</td>\n",
       "      <td>19</td>\n",
       "    </tr>\n",
       "    <tr>\n",
       "      <th>The Wonderful World of Disney</th>\n",
       "      <td>6.100000</td>\n",
       "      <td>8</td>\n",
       "    </tr>\n",
       "  </tbody>\n",
       "</table>\n",
       "<p>103 rows × 2 columns</p>\n",
       "</div>"
      ],
      "text/plain": [
       "                               povprecna_ocena  st_ponovitev\n",
       "serija                                                      \n",
       "One Punch Man: Wanpanman              9.466667             6\n",
       "How to Get Away with Murder           9.320000             5\n",
       "Sinovi anarhije                       9.300000             8\n",
       "Futurama                              9.240000             5\n",
       "Nepremagljivi dvojec                  9.238889            18\n",
       "...                                        ...           ...\n",
       "Family Guy                            7.585714             7\n",
       "Fear the Walking Dead                 7.390476            21\n",
       "Planet Earth                          7.350000             8\n",
       "Masters of Horror                     6.321053            19\n",
       "The Wonderful World of Disney         6.100000             8\n",
       "\n",
       "[103 rows x 2 columns]"
      ]
     },
     "execution_count": 7,
     "metadata": {},
     "output_type": "execute_result"
    }
   ],
   "source": [
    "serije2 = serije\n",
    "serije2['st_ponovitev'] = epizode[['serija', 'ocena']].groupby('serija').count()\n",
    "serije2 = serije2[serije2.st_ponovitev >= 5]\n",
    "serije2"
   ]
  },
  {
   "cell_type": "markdown",
   "metadata": {},
   "source": [
    "Prejšnji sklep je bil očitno pravilen, saj je vseh 10 drugačnih kot prej. Ugotovimo pa lahko, da je najbolje ocenjena serija z vsaj 5 epizodami z dovoljšnim številom glasov One Punch Man: Wanpanman, sledita pa ji How To Get Away with Murder in Sinovi anarhije. Spet pa lahko opazimo, da ima prvih par serij manj kot 10 ponovitev. Najbolje ocenjeni seriji z vsaj 10 ponovitvami sta Nepramagljivi dvojec in Community, izstopata pa tudi seriji Igra prestolov in Lov na osumljenca, ki imata več kot 50 ponovitev, njuna povprečna ocena pa vseeno presega 9.0."
   ]
  },
  {
   "cell_type": "markdown",
   "metadata": {},
   "source": [
    "### 2. hipoteza"
   ]
  },
  {
   "cell_type": "code",
   "execution_count": 8,
   "metadata": {},
   "outputs": [],
   "source": [
    "%matplotlib inline"
   ]
  },
  {
   "cell_type": "code",
   "execution_count": 105,
   "metadata": {},
   "outputs": [
    {
     "data": {
      "text/plain": [
       "<matplotlib.axes._subplots.AxesSubplot at 0xf530f10>"
      ]
     },
     "execution_count": 105,
     "metadata": {},
     "output_type": "execute_result"
    },
    {
     "data": {
      "image/png": "[encoded data removed]",
      "text/plain": [
       "<Figure size 432x288 with 1 Axes>"
      ]
     },
     "metadata": {
      "needs_background": "light"
     },
     "output_type": "display_data"
    }
   ],
   "source": [
    "epizode.plot.scatter('dolzina', 'ocena', title = 'Povezava med oceno in dolžino epizode', color = 'deepskyblue')"
   ]
  },
  {
   "cell_type": "markdown",
   "metadata": {},
   "source": [
    "Iz zgornjega grafa ni preveč očitno, kakšna je povezava med dolzino in oceno epizode, zato bomo nekaj epizod z precej nadpovprečnim trajanje odstranili."
   ]
  },
  {
   "cell_type": "code",
   "execution_count": 106,
   "metadata": {},
   "outputs": [
    {
     "data": {
      "text/plain": [
       "<matplotlib.axes._subplots.AxesSubplot at 0xf5b1c30>"
      ]
     },
     "execution_count": 106,
     "metadata": {},
     "output_type": "execute_result"
    },
    {
     "data": {
      "image/png": "[encoded data removed]",
      "text/plain": [
       "<Figure size 432x288 with 1 Axes>"
      ]
     },
     "metadata": {
      "needs_background": "light"
     },
     "output_type": "display_data"
    }
   ],
   "source": [
    "epizode[epizode.dolzina < 150].plot.scatter('dolzina', 'ocena', title = 'Povezava med oceno in dolžino epizode',\n",
    "                                            color = 'deepskyblue')"
   ]
  },
  {
   "cell_type": "markdown",
   "metadata": {},
   "source": [
    "Močne povezave med trajanjem epizode in njeno oceno iz zgornjega grafa ni mogoče opaziti, kar je v nasprotju z mojimi pričakovanji. Najbrž pa razlog za to dejstvo tiči v tem, da se pri krajših (ponavadi komičnih) serijah zgodba ne navezuje tako močno na prejšnje epizode, zato so bolje gledane le najboljše epizode teh serij, zaradi česar imajo le te dovolj glasov, da jih upoštevamo. Iz tega sledi tudi boljša povprečna ocena serij s trajanjnem manj kot pol ure."
   ]
  },
  {
   "cell_type": "markdown",
   "metadata": {},
   "source": [
    "### 3. hipoteza"
   ]
  },
  {
   "cell_type": "code",
   "execution_count": 69,
   "metadata": {},
   "outputs": [
    {
     "data": {
      "text/plain": [
       "<matplotlib.axes._subplots.AxesSubplot at 0xdd25ad0>"
      ]
     },
     "execution_count": 69,
     "metadata": {},
     "output_type": "execute_result"
    },
    {
     "data": {
      "image/png": "[encoded data removed]",
      "text/plain": [
       "<Figure size 432x288 with 1 Axes>"
      ]
     },
     "metadata": {
      "needs_background": "light"
     },
     "output_type": "display_data"
    }
   ],
   "source": [
    "epizode['petletje'] = 5 * (epizode.leto // 5)\n",
    "epizode_po_petletjih = epizode[['serija', 'petletje']].groupby('petletje').count()\n",
    "epizode_po_petletjih = epizode_po_petletjih.rename(index=str, columns = {'serija': 'Število epizod'})\n",
    "\n",
    "epizode_po_petletjih.plot.bar(color = 'lime', title = 'Število epizod po petletjih')"
   ]
  },
  {
   "cell_type": "markdown",
   "metadata": {},
   "source": [
    "Kot lahko opazimo v zgornjem grafu, je največ epizod izšlo v petletju 2015-2020, ki pa ga seveda še zdaleč ni konec. Iz tega dejstva, ter iz trenda naraščanja, opaženega v preteklih petletjih torej lahko ugotovimo, da se popularnost serij in posledično število le-leh v zadnjih letih krepko povečuje."
   ]
  },
  {
   "cell_type": "markdown",
   "metadata": {},
   "source": [
    "### 4. hipoteza"
   ]
  },
  {
   "cell_type": "code",
   "execution_count": 12,
   "metadata": {},
   "outputs": [
    {
     "data": {
      "text/html": [
       "<div>\n",
       "<style scoped>\n",
       "    .dataframe tbody tr th:only-of-type {\n",
       "        vertical-align: middle;\n",
       "    }\n",
       "\n",
       "    .dataframe tbody tr th {\n",
       "        vertical-align: top;\n",
       "    }\n",
       "\n",
       "    .dataframe thead th {\n",
       "        text-align: right;\n",
       "    }\n",
       "</style>\n",
       "<table border=\"1\" class=\"dataframe\">\n",
       "  <thead>\n",
       "    <tr style=\"text-align: right;\">\n",
       "      <th></th>\n",
       "      <th>povprecna_ocena</th>\n",
       "    </tr>\n",
       "    <tr>\n",
       "      <th>reziser</th>\n",
       "      <th></th>\n",
       "    </tr>\n",
       "  </thead>\n",
       "  <tbody>\n",
       "    <tr>\n",
       "      <th>Magnús Scheving</th>\n",
       "      <td>10.0</td>\n",
       "    </tr>\n",
       "    <tr>\n",
       "      <th>Bill Lawrence</th>\n",
       "      <td>9.8</td>\n",
       "    </tr>\n",
       "    <tr>\n",
       "      <th>Dave Filoni</th>\n",
       "      <td>9.8</td>\n",
       "    </tr>\n",
       "    <tr>\n",
       "      <th>Jeff Melman</th>\n",
       "      <td>9.8</td>\n",
       "    </tr>\n",
       "    <tr>\n",
       "      <th>Joaquim Dos Santos</th>\n",
       "      <td>9.8</td>\n",
       "    </tr>\n",
       "    <tr>\n",
       "      <th>...</th>\n",
       "      <td>...</td>\n",
       "    </tr>\n",
       "    <tr>\n",
       "      <th>I. Marlene King</th>\n",
       "      <td>4.7</td>\n",
       "    </tr>\n",
       "    <tr>\n",
       "      <th>Joseph Lee</th>\n",
       "      <td>4.3</td>\n",
       "    </tr>\n",
       "    <tr>\n",
       "      <th>Douglas Williams</th>\n",
       "      <td>2.2</td>\n",
       "    </tr>\n",
       "    <tr>\n",
       "      <th>Jon Richards</th>\n",
       "      <td>2.1</td>\n",
       "    </tr>\n",
       "    <tr>\n",
       "      <th>Mark McQueen</th>\n",
       "      <td>2.1</td>\n",
       "    </tr>\n",
       "  </tbody>\n",
       "</table>\n",
       "<p>852 rows × 1 columns</p>\n",
       "</div>"
      ],
      "text/plain": [
       "                    povprecna_ocena\n",
       "reziser                            \n",
       "Magnús Scheving                10.0\n",
       "Bill Lawrence                   9.8\n",
       "Dave Filoni                     9.8\n",
       "Jeff Melman                     9.8\n",
       "Joaquim Dos Santos              9.8\n",
       "...                             ...\n",
       "I. Marlene King                 4.7\n",
       "Joseph Lee                      4.3\n",
       "Douglas Williams                2.2\n",
       "Jon Richards                    2.1\n",
       "Mark McQueen                    2.1\n",
       "\n",
       "[852 rows x 1 columns]"
      ]
     },
     "execution_count": 12,
     "metadata": {},
     "output_type": "execute_result"
    }
   ],
   "source": [
    "ustvarjalci = pd.merge(epizode, reziserji, left_on='id', right_on='id')\n",
    "ustvarjalci = ustvarjalci[['ocena', 'reziser']].groupby('reziser')\n",
    "ustvarjalci = ustvarjalci.mean().sort_values('ocena', ascending = False)\n",
    "ustvarjalci = ustvarjalci.rename(index=str, columns = {'ocena': 'povprecna_ocena'})\n",
    "ustvarjalci"
   ]
  },
  {
   "cell_type": "markdown",
   "metadata": {},
   "source": [
    "Zgornja razpredelnica prikazuje režiserje, ki imajo v povprečju najbolje ocenjene epizode, ki jih režirajo. Ker pa se mi je med obravnavo razpredelnice dozdevalo, da prihaja do podobnega problema kot pri analizi najbolje ocenjenih serij, bomo ponovili podoben postopek kot prej, torej bomo obravnavali le režiserje, ki so režirali dovoljšnje število epizod."
   ]
  },
  {
   "cell_type": "code",
   "execution_count": 13,
   "metadata": {},
   "outputs": [
    {
     "data": {
      "text/html": [
       "<div>\n",
       "<style scoped>\n",
       "    .dataframe tbody tr th:only-of-type {\n",
       "        vertical-align: middle;\n",
       "    }\n",
       "\n",
       "    .dataframe tbody tr th {\n",
       "        vertical-align: top;\n",
       "    }\n",
       "\n",
       "    .dataframe thead th {\n",
       "        text-align: right;\n",
       "    }\n",
       "</style>\n",
       "<table border=\"1\" class=\"dataframe\">\n",
       "  <thead>\n",
       "    <tr style=\"text-align: right;\">\n",
       "      <th></th>\n",
       "      <th>povprecna_ocena</th>\n",
       "      <th>st_ponovitev</th>\n",
       "    </tr>\n",
       "    <tr>\n",
       "      <th>reziser</th>\n",
       "      <th></th>\n",
       "      <th></th>\n",
       "    </tr>\n",
       "  </thead>\n",
       "  <tbody>\n",
       "    <tr>\n",
       "      <th>Shingo Natsume</th>\n",
       "      <td>9.466667</td>\n",
       "      <td>6</td>\n",
       "    </tr>\n",
       "    <tr>\n",
       "      <th>Chris Fisher</th>\n",
       "      <td>9.321429</td>\n",
       "      <td>14</td>\n",
       "    </tr>\n",
       "    <tr>\n",
       "      <th>Cary Joji Fukunaga</th>\n",
       "      <td>9.300000</td>\n",
       "      <td>8</td>\n",
       "    </tr>\n",
       "    <tr>\n",
       "      <th>Matt Shakman</th>\n",
       "      <td>9.222222</td>\n",
       "      <td>9</td>\n",
       "    </tr>\n",
       "    <tr>\n",
       "      <th>Tetsurô Araki</th>\n",
       "      <td>9.183333</td>\n",
       "      <td>6</td>\n",
       "    </tr>\n",
       "    <tr>\n",
       "      <th>...</th>\n",
       "      <td>...</td>\n",
       "      <td>...</td>\n",
       "    </tr>\n",
       "    <tr>\n",
       "      <th>Chris Carter</th>\n",
       "      <td>7.763636</td>\n",
       "      <td>11</td>\n",
       "    </tr>\n",
       "    <tr>\n",
       "      <th>Michael E. Satrazemis</th>\n",
       "      <td>7.623077</td>\n",
       "      <td>13</td>\n",
       "    </tr>\n",
       "    <tr>\n",
       "      <th>Rob Hardy</th>\n",
       "      <td>7.550000</td>\n",
       "      <td>8</td>\n",
       "    </tr>\n",
       "    <tr>\n",
       "      <th>James Purdum</th>\n",
       "      <td>7.516667</td>\n",
       "      <td>6</td>\n",
       "    </tr>\n",
       "    <tr>\n",
       "      <th>Alastair Fothergill</th>\n",
       "      <td>7.350000</td>\n",
       "      <td>8</td>\n",
       "    </tr>\n",
       "  </tbody>\n",
       "</table>\n",
       "<p>227 rows × 2 columns</p>\n",
       "</div>"
      ],
      "text/plain": [
       "                       povprecna_ocena  st_ponovitev\n",
       "reziser                                             \n",
       "Shingo Natsume                9.466667             6\n",
       "Chris Fisher                  9.321429            14\n",
       "Cary Joji Fukunaga            9.300000             8\n",
       "Matt Shakman                  9.222222             9\n",
       "Tetsurô Araki                 9.183333             6\n",
       "...                                ...           ...\n",
       "Chris Carter                  7.763636            11\n",
       "Michael E. Satrazemis         7.623077            13\n",
       "Rob Hardy                     7.550000             8\n",
       "James Purdum                  7.516667             6\n",
       "Alastair Fothergill           7.350000             8\n",
       "\n",
       "[227 rows x 2 columns]"
      ]
     },
     "execution_count": 13,
     "metadata": {},
     "output_type": "execute_result"
    }
   ],
   "source": [
    "ustvarjalci2 = pd.merge(epizode, reziserji, left_on='id', right_on='id')\n",
    "ustvarjalci2 = ustvarjalci2[['ocena', 'reziser']].groupby('reziser').count()\n",
    "ustvarjalci2 = ustvarjalci2.rename(index=str, columns = {'ocena': 'st_ponovitev'})\n",
    "ustvarjalci2 = pd.merge(ustvarjalci, ustvarjalci2, left_on='reziser', right_on='reziser')\n",
    "ustvarjalci2 = ustvarjalci2[ustvarjalci2.st_ponovitev >= 5]\n",
    "ustvarjalci2"
   ]
  },
  {
   "cell_type": "markdown",
   "metadata": {},
   "source": [
    "Na podoben način kot pri serijah smo se omejili na režiserje, ki so režirali vsaj 5 epizod z dovoljšnim številom glasov. Pridemo do podobnega sklepa, da so imeli najboljše povprečne ocene res režiserji z manjšim številom epizod. Če pa si ogledamo le tiste, ki so se pojavili dovoljkrat, ugotovimo, da je najbolj uspešen Shingo Natsume, sledita pa mu Chris Fisher in Cary Joji Fukunaga. \n",
    "\n",
    "Na tem mestu omenimo še zanimivost, da je Shingo Natsume znan predvsem za režiranje epizod serije One Punch Man, za katero smo prej pravtako ugotovili, da je najbolje povprečno ocenjena serija."
   ]
  },
  {
   "cell_type": "markdown",
   "metadata": {},
   "source": [
    "### 5. hipoteza"
   ]
  },
  {
   "cell_type": "code",
   "execution_count": 103,
   "metadata": {},
   "outputs": [
    {
     "data": {
      "text/plain": [
       "<matplotlib.axes._subplots.AxesSubplot at 0xf4e8b90>"
      ]
     },
     "execution_count": 103,
     "metadata": {},
     "output_type": "execute_result"
    },
    {
     "data": {
      "image/png": "[encoded data removed]",
      "text/plain": [
       "<Figure size 432x288 with 1 Axes>"
      ]
     },
     "metadata": {
      "needs_background": "light"
     },
     "output_type": "display_data"
    }
   ],
   "source": [
    "epizode[(epizode.st_glasov < 60000) & (epizode.ocena > 3)].plot.scatter('st_glasov','ocena', color = 'hotpink',\n",
    "                                                                        title = 'Povezava med oceno in številom glasov')"
   ]
  },
  {
   "cell_type": "markdown",
   "metadata": {},
   "source": [
    "Pri obravnavi povezave med oceno in številom glasov se zaradi večje preglednosti znebimo parih izjem, to so epizode z res veliko večjim številom glasov (te so zelo dobro ocenjene) ter epizode z zelo nizkimi ocenami (te pa so imele malo število glasov) in opazimo, da so večinoma kakovost epizode narašča s številom glasov. Tiste, ki imajo veliko glasov so dobro ocenjene, za epizode z malo glasovi pa velja, da so lahko zelo slabo ocenjene, lahko pa to ocenjene tudi zelo dobro. \n",
    "\n",
    "Dodajmo še komentar, da vse epizode, katerih nismo upoštevali zaradi prevelikega števila glasov, pripadajo bodisi seriji Kriva pota bodisi Igri prestolov, ki veljata za eni izmed najboljših in najbolj popularnih serij našega časa, kar je seveda tudi razlog za tako številčno ocenjevanje."
   ]
  },
  {
   "cell_type": "markdown",
   "metadata": {},
   "source": [
    "### 6. hipoteza"
   ]
  },
  {
   "cell_type": "code",
   "execution_count": 102,
   "metadata": {},
   "outputs": [
    {
     "data": {
      "text/plain": [
       "<matplotlib.legend.Legend at 0xf4b6ff0>"
      ]
     },
     "execution_count": 102,
     "metadata": {},
     "output_type": "execute_result"
    },
    {
     "data": {
      "image/png": "[encoded data removed]",
      "text/plain": [
       "<Figure size 432x288 with 1 Axes>"
      ]
     },
     "metadata": {
      "needs_background": "light"
     },
     "output_type": "display_data"
    }
   ],
   "source": [
    "kakovost = epizode[['leto', 'ocena', 'petletje']]\n",
    "kakovost1 = kakovost[['leto', 'ocena']].groupby('leto').mean()\n",
    "kakovost2 = kakovost[['petletje', 'ocena']].groupby('petletje').mean()\n",
    "\n",
    "plt.plot(kakovost1, color = 'g', lw = 3)\n",
    "plt.plot(kakovost2, color = 'purple', lw = 3)\n",
    "plt.title('Spreminjanje povprečne letne ocene')\n",
    "plt.xlabel('Leto')\n",
    "plt.ylabel('Ocena')\n",
    "plt.legend(['Po letih', 'Po petletjih'])"
   ]
  },
  {
   "cell_type": "markdown",
   "metadata": {},
   "source": [
    "Graf gibanja povprečne letne ocene nam pove, da se dejansko kakovost epizod oziroma serij z leti v povprečju ne povečuje, vendar pa je vseeno vse bolj konstantna oziroma ima prisotnih vse manj izrazitih nihanj. Nekaj zaslug za tak graf bi najbrž lahko pripisali dejstvu, da so od starejših serij bolj gledane in ocenjene predvsem najboljše epizode serij prav tako pa se kvantiteta epizod z leti povečuje, kar smo ugotovili v 3. hipotezi, torej bo vsaka nadpovprečno dobra ali nadpovprečno slaba epizoda imela manjši vpliv na povprečno letno oceno, kar zagotovo prispeva k vse manjšemu nihanju.\n",
    "\n",
    "Opazimo lahko tudi, da smo se z prikazom povprečne ocene epizod glede na petletje večine nihanja znebili, sicer pa je oblika grafa precej podobna prvotnemu. Zaradi zaokroževanja pri petletjih seveda pride tudi do delnih zamikov."
   ]
  },
  {
   "cell_type": "markdown",
   "metadata": {},
   "source": [
    "## Komične vs nekomične serije\n",
    "\n",
    "V zadnjem razdelku pa si bomo, kot sem si to zadal v zasnovi projektne naloge, ogledali primerjavo med komičnimi in nekomičnimi serijami oziroma med serijami, ki imajo trajanje epizod manjše od 30 minut, in tistimi z trajanjem več kot pol ure.\n",
    "\n",
    "Za začetek si oglejmo, če moja hipoteza o povezavi med trajanjem posamezne epizode in njenim žanrom sploh res drži."
   ]
  },
  {
   "cell_type": "code",
   "execution_count": 16,
   "metadata": {},
   "outputs": [
    {
     "data": {
      "text/html": [
       "<div>\n",
       "<style scoped>\n",
       "    .dataframe tbody tr th:only-of-type {\n",
       "        vertical-align: middle;\n",
       "    }\n",
       "\n",
       "    .dataframe tbody tr th {\n",
       "        vertical-align: top;\n",
       "    }\n",
       "\n",
       "    .dataframe thead th {\n",
       "        text-align: right;\n",
       "    }\n",
       "</style>\n",
       "<table border=\"1\" class=\"dataframe\">\n",
       "  <thead>\n",
       "    <tr style=\"text-align: right;\">\n",
       "      <th></th>\n",
       "      <th>serija</th>\n",
       "      <th>epizoda</th>\n",
       "      <th>dolzina</th>\n",
       "      <th>ocena</th>\n",
       "      <th>st_glasov</th>\n",
       "      <th>zanr</th>\n",
       "    </tr>\n",
       "  </thead>\n",
       "  <tbody>\n",
       "    <tr>\n",
       "      <th>100</th>\n",
       "      <td>Delo na crno</td>\n",
       "      <td>Moonlighting (Pilot)</td>\n",
       "      <td>93</td>\n",
       "      <td>7.5</td>\n",
       "      <td>2135</td>\n",
       "      <td>Comedy</td>\n",
       "    </tr>\n",
       "    <tr>\n",
       "      <th>103</th>\n",
       "      <td>American Playhouse</td>\n",
       "      <td>Overdrawn at the Memory Bank</td>\n",
       "      <td>83</td>\n",
       "      <td>2.2</td>\n",
       "      <td>2245</td>\n",
       "      <td>Comedy</td>\n",
       "    </tr>\n",
       "    <tr>\n",
       "      <th>106</th>\n",
       "      <td>American Playhouse</td>\n",
       "      <td>Into the Woods</td>\n",
       "      <td>151</td>\n",
       "      <td>8.4</td>\n",
       "      <td>2875</td>\n",
       "      <td>Comedy</td>\n",
       "    </tr>\n",
       "    <tr>\n",
       "      <th>217</th>\n",
       "      <td>The Wonderful World of Disney</td>\n",
       "      <td>Cinderella</td>\n",
       "      <td>88</td>\n",
       "      <td>6.5</td>\n",
       "      <td>5208</td>\n",
       "      <td>Comedy</td>\n",
       "    </tr>\n",
       "    <tr>\n",
       "      <th>220</th>\n",
       "      <td>The Wonderful World of Disney</td>\n",
       "      <td>Tower of Terror</td>\n",
       "      <td>89</td>\n",
       "      <td>6.3</td>\n",
       "      <td>2967</td>\n",
       "      <td>Comedy</td>\n",
       "    </tr>\n",
       "    <tr>\n",
       "      <th>...</th>\n",
       "      <td>...</td>\n",
       "      <td>...</td>\n",
       "      <td>...</td>\n",
       "      <td>...</td>\n",
       "      <td>...</td>\n",
       "      <td>...</td>\n",
       "    </tr>\n",
       "    <tr>\n",
       "      <th>10037</th>\n",
       "      <td>The Orville</td>\n",
       "      <td>Pria</td>\n",
       "      <td>44</td>\n",
       "      <td>8.0</td>\n",
       "      <td>2170</td>\n",
       "      <td>Comedy</td>\n",
       "    </tr>\n",
       "    <tr>\n",
       "      <th>10040</th>\n",
       "      <td>The Orville</td>\n",
       "      <td>Krill</td>\n",
       "      <td>44</td>\n",
       "      <td>8.1</td>\n",
       "      <td>2053</td>\n",
       "      <td>Comedy</td>\n",
       "    </tr>\n",
       "    <tr>\n",
       "      <th>10043</th>\n",
       "      <td>The Orville</td>\n",
       "      <td>Majority Rule</td>\n",
       "      <td>43</td>\n",
       "      <td>8.4</td>\n",
       "      <td>2330</td>\n",
       "      <td>Comedy</td>\n",
       "    </tr>\n",
       "    <tr>\n",
       "      <th>10146</th>\n",
       "      <td>Master of None</td>\n",
       "      <td>Thanksgiving</td>\n",
       "      <td>34</td>\n",
       "      <td>9.5</td>\n",
       "      <td>2075</td>\n",
       "      <td>Comedy</td>\n",
       "    </tr>\n",
       "    <tr>\n",
       "      <th>10147</th>\n",
       "      <td>Master of None</td>\n",
       "      <td>Amarsi Un Po</td>\n",
       "      <td>57</td>\n",
       "      <td>9.5</td>\n",
       "      <td>2106</td>\n",
       "      <td>Comedy</td>\n",
       "    </tr>\n",
       "  </tbody>\n",
       "</table>\n",
       "<p>99 rows × 6 columns</p>\n",
       "</div>"
      ],
      "text/plain": [
       "                              serija                       epizoda  dolzina  \\\n",
       "100                     Delo na crno          Moonlighting (Pilot)       93   \n",
       "103               American Playhouse  Overdrawn at the Memory Bank       83   \n",
       "106               American Playhouse                Into the Woods      151   \n",
       "217    The Wonderful World of Disney                    Cinderella       88   \n",
       "220    The Wonderful World of Disney               Tower of Terror       89   \n",
       "...                              ...                           ...      ...   \n",
       "10037                    The Orville                          Pria       44   \n",
       "10040                    The Orville                         Krill       44   \n",
       "10043                    The Orville                 Majority Rule       43   \n",
       "10146                 Master of None                  Thanksgiving       34   \n",
       "10147                 Master of None                  Amarsi Un Po       57   \n",
       "\n",
       "       ocena  st_glasov    zanr  \n",
       "100      7.5       2135  Comedy  \n",
       "103      2.2       2245  Comedy  \n",
       "106      8.4       2875  Comedy  \n",
       "217      6.5       5208  Comedy  \n",
       "220      6.3       2967  Comedy  \n",
       "...      ...        ...     ...  \n",
       "10037    8.0       2170  Comedy  \n",
       "10040    8.1       2053  Comedy  \n",
       "10043    8.4       2330  Comedy  \n",
       "10146    9.5       2075  Comedy  \n",
       "10147    9.5       2106  Comedy  \n",
       "\n",
       "[99 rows x 6 columns]"
      ]
     },
     "execution_count": 16,
     "metadata": {},
     "output_type": "execute_result"
    }
   ],
   "source": [
    "izjeme = pd.merge(epizode, zanri, left_on='serija', right_on='serija')\n",
    "izjeme = izjeme[['serija', 'epizoda', 'dolzina', 'ocena', 'st_glasov', 'zanr']]\n",
    "izjeme[(izjeme.dolzina > 30) & (izjeme.zanr == 'Comedy')]"
   ]
  },
  {
   "cell_type": "markdown",
   "metadata": {},
   "source": [
    "Očitno moja hipoteza ne drži za vse serije, saj je iz zgornje preglednice razvidno, da moja hipoteza ne drži vedno, saj imamo kar 99 primerov epizod, za katere ne velja, da so komične ter da je njihova dolžina manj kot 30 min. Z nekaj več dela lahko ugotovimo tudi, da je prisotnih tudi kar precej epizod, ki niso komedije, njihovo trajanje pa je manjše kot pol ure. Ker pa so takšne epizode še vedno bolj izjema, kot pravilo, si bomo vseeno ogledali primerjavo med komedijami in nekomičnimi serijami, le da v resnici niti ne bomo potrebovali hipoteze o trajanju."
   ]
  },
  {
   "cell_type": "code",
   "execution_count": 17,
   "metadata": {},
   "outputs": [
    {
     "data": {
      "text/html": [
       "<div>\n",
       "<style scoped>\n",
       "    .dataframe tbody tr th:only-of-type {\n",
       "        vertical-align: middle;\n",
       "    }\n",
       "\n",
       "    .dataframe tbody tr th {\n",
       "        vertical-align: top;\n",
       "    }\n",
       "\n",
       "    .dataframe thead th {\n",
       "        text-align: right;\n",
       "    }\n",
       "</style>\n",
       "<table border=\"1\" class=\"dataframe\">\n",
       "  <thead>\n",
       "    <tr style=\"text-align: right;\">\n",
       "      <th></th>\n",
       "      <th>serija</th>\n",
       "      <th>epizoda</th>\n",
       "      <th>dolzina</th>\n",
       "      <th>ocena</th>\n",
       "      <th>st_glasov</th>\n",
       "    </tr>\n",
       "  </thead>\n",
       "  <tbody>\n",
       "    <tr>\n",
       "      <th>0</th>\n",
       "      <td>Delo na crno</td>\n",
       "      <td>Moonlighting (Pilot)</td>\n",
       "      <td>93</td>\n",
       "      <td>7.5</td>\n",
       "      <td>2135</td>\n",
       "    </tr>\n",
       "    <tr>\n",
       "      <th>1</th>\n",
       "      <td>American Playhouse</td>\n",
       "      <td>Overdrawn at the Memory Bank</td>\n",
       "      <td>83</td>\n",
       "      <td>2.2</td>\n",
       "      <td>2245</td>\n",
       "    </tr>\n",
       "    <tr>\n",
       "      <th>2</th>\n",
       "      <td>American Playhouse</td>\n",
       "      <td>Into the Woods</td>\n",
       "      <td>151</td>\n",
       "      <td>8.4</td>\n",
       "      <td>2875</td>\n",
       "    </tr>\n",
       "    <tr>\n",
       "      <th>3</th>\n",
       "      <td>Seinfeld</td>\n",
       "      <td>Good News, Bad News</td>\n",
       "      <td>23</td>\n",
       "      <td>7.8</td>\n",
       "      <td>2642</td>\n",
       "    </tr>\n",
       "    <tr>\n",
       "      <th>4</th>\n",
       "      <td>Seinfeld</td>\n",
       "      <td>The Betrayal</td>\n",
       "      <td>24</td>\n",
       "      <td>9.0</td>\n",
       "      <td>2075</td>\n",
       "    </tr>\n",
       "    <tr>\n",
       "      <th>...</th>\n",
       "      <td>...</td>\n",
       "      <td>...</td>\n",
       "      <td>...</td>\n",
       "      <td>...</td>\n",
       "      <td>...</td>\n",
       "    </tr>\n",
       "    <tr>\n",
       "      <th>903</th>\n",
       "      <td>Master of None</td>\n",
       "      <td>Amarsi Un Po</td>\n",
       "      <td>57</td>\n",
       "      <td>9.5</td>\n",
       "      <td>2106</td>\n",
       "    </tr>\n",
       "    <tr>\n",
       "      <th>904</th>\n",
       "      <td>The End of the F***ing World</td>\n",
       "      <td>Episode #1.1</td>\n",
       "      <td>18</td>\n",
       "      <td>8.1</td>\n",
       "      <td>2319</td>\n",
       "    </tr>\n",
       "    <tr>\n",
       "      <th>905</th>\n",
       "      <td>The End of the F***ing World</td>\n",
       "      <td>Episode #1.2</td>\n",
       "      <td>22</td>\n",
       "      <td>7.8</td>\n",
       "      <td>2035</td>\n",
       "    </tr>\n",
       "    <tr>\n",
       "      <th>906</th>\n",
       "      <td>The End of the F***ing World</td>\n",
       "      <td>Episode #1.3</td>\n",
       "      <td>21</td>\n",
       "      <td>8.6</td>\n",
       "      <td>2205</td>\n",
       "    </tr>\n",
       "    <tr>\n",
       "      <th>907</th>\n",
       "      <td>The End of the F***ing World</td>\n",
       "      <td>Episode #1.8</td>\n",
       "      <td>19</td>\n",
       "      <td>8.9</td>\n",
       "      <td>2204</td>\n",
       "    </tr>\n",
       "  </tbody>\n",
       "</table>\n",
       "<p>908 rows × 5 columns</p>\n",
       "</div>"
      ],
      "text/plain": [
       "                           serija                       epizoda  dolzina  \\\n",
       "0                    Delo na crno          Moonlighting (Pilot)       93   \n",
       "1              American Playhouse  Overdrawn at the Memory Bank       83   \n",
       "2              American Playhouse                Into the Woods      151   \n",
       "3                        Seinfeld           Good News, Bad News       23   \n",
       "4                        Seinfeld                  The Betrayal       24   \n",
       "..                            ...                           ...      ...   \n",
       "903                Master of None                  Amarsi Un Po       57   \n",
       "904  The End of the F***ing World                  Episode #1.1       18   \n",
       "905  The End of the F***ing World                  Episode #1.2       22   \n",
       "906  The End of the F***ing World                  Episode #1.3       21   \n",
       "907  The End of the F***ing World                  Episode #1.8       19   \n",
       "\n",
       "     ocena  st_glasov  \n",
       "0      7.5       2135  \n",
       "1      2.2       2245  \n",
       "2      8.4       2875  \n",
       "3      7.8       2642  \n",
       "4      9.0       2075  \n",
       "..     ...        ...  \n",
       "903    9.5       2106  \n",
       "904    8.1       2319  \n",
       "905    7.8       2035  \n",
       "906    8.6       2205  \n",
       "907    8.9       2204  \n",
       "\n",
       "[908 rows x 5 columns]"
      ]
     },
     "execution_count": 17,
     "metadata": {},
     "output_type": "execute_result"
    }
   ],
   "source": [
    "komedije = zanri[zanri.zanr == 'Comedy']\n",
    "komedije = pd.merge(epizode, komedije, left_on='serija', right_on='serija')\n",
    "komedije = komedije[['serija', 'epizoda', 'dolzina', 'ocena', 'st_glasov']]\n",
    "komedije"
   ]
  },
  {
   "cell_type": "code",
   "execution_count": 18,
   "metadata": {},
   "outputs": [
    {
     "data": {
      "text/html": [
       "<div>\n",
       "<style scoped>\n",
       "    .dataframe tbody tr th:only-of-type {\n",
       "        vertical-align: middle;\n",
       "    }\n",
       "\n",
       "    .dataframe tbody tr th {\n",
       "        vertical-align: top;\n",
       "    }\n",
       "\n",
       "    .dataframe thead th {\n",
       "        text-align: right;\n",
       "    }\n",
       "</style>\n",
       "<table border=\"1\" class=\"dataframe\">\n",
       "  <thead>\n",
       "    <tr style=\"text-align: right;\">\n",
       "      <th></th>\n",
       "      <th>serija</th>\n",
       "      <th>epizoda</th>\n",
       "      <th>dolzina</th>\n",
       "      <th>ocena</th>\n",
       "      <th>st_glasov</th>\n",
       "    </tr>\n",
       "  </thead>\n",
       "  <tbody>\n",
       "    <tr>\n",
       "      <th>0</th>\n",
       "      <td>Star Trek</td>\n",
       "      <td>The Cage</td>\n",
       "      <td>63</td>\n",
       "      <td>7.7</td>\n",
       "      <td>4159</td>\n",
       "    </tr>\n",
       "    <tr>\n",
       "      <th>1</th>\n",
       "      <td>Star Trek</td>\n",
       "      <td>The Cage</td>\n",
       "      <td>63</td>\n",
       "      <td>7.7</td>\n",
       "      <td>4159</td>\n",
       "    </tr>\n",
       "    <tr>\n",
       "      <th>2</th>\n",
       "      <td>Star Trek</td>\n",
       "      <td>The Cage</td>\n",
       "      <td>63</td>\n",
       "      <td>7.7</td>\n",
       "      <td>4159</td>\n",
       "    </tr>\n",
       "    <tr>\n",
       "      <th>3</th>\n",
       "      <td>Star Trek</td>\n",
       "      <td>Where No Man Has Gone Before</td>\n",
       "      <td>50</td>\n",
       "      <td>7.8</td>\n",
       "      <td>3747</td>\n",
       "    </tr>\n",
       "    <tr>\n",
       "      <th>4</th>\n",
       "      <td>Star Trek</td>\n",
       "      <td>Where No Man Has Gone Before</td>\n",
       "      <td>50</td>\n",
       "      <td>7.8</td>\n",
       "      <td>3747</td>\n",
       "    </tr>\n",
       "    <tr>\n",
       "      <th>...</th>\n",
       "      <td>...</td>\n",
       "      <td>...</td>\n",
       "      <td>...</td>\n",
       "      <td>...</td>\n",
       "      <td>...</td>\n",
       "    </tr>\n",
       "    <tr>\n",
       "      <th>8399</th>\n",
       "      <td>The Haunting of Hill House</td>\n",
       "      <td>Two Storms</td>\n",
       "      <td>57</td>\n",
       "      <td>9.5</td>\n",
       "      <td>3026</td>\n",
       "    </tr>\n",
       "    <tr>\n",
       "      <th>8400</th>\n",
       "      <td>The Haunting of Hill House</td>\n",
       "      <td>Two Storms</td>\n",
       "      <td>57</td>\n",
       "      <td>9.5</td>\n",
       "      <td>3026</td>\n",
       "    </tr>\n",
       "    <tr>\n",
       "      <th>8401</th>\n",
       "      <td>Castle Rock</td>\n",
       "      <td>The Queen</td>\n",
       "      <td>59</td>\n",
       "      <td>9.2</td>\n",
       "      <td>2322</td>\n",
       "    </tr>\n",
       "    <tr>\n",
       "      <th>8402</th>\n",
       "      <td>Castle Rock</td>\n",
       "      <td>The Queen</td>\n",
       "      <td>59</td>\n",
       "      <td>9.2</td>\n",
       "      <td>2322</td>\n",
       "    </tr>\n",
       "    <tr>\n",
       "      <th>8403</th>\n",
       "      <td>Castle Rock</td>\n",
       "      <td>The Queen</td>\n",
       "      <td>59</td>\n",
       "      <td>9.2</td>\n",
       "      <td>2322</td>\n",
       "    </tr>\n",
       "  </tbody>\n",
       "</table>\n",
       "<p>8404 rows × 5 columns</p>\n",
       "</div>"
      ],
      "text/plain": [
       "                          serija                       epizoda  dolzina  \\\n",
       "0                      Star Trek                      The Cage       63   \n",
       "1                      Star Trek                      The Cage       63   \n",
       "2                      Star Trek                      The Cage       63   \n",
       "3                      Star Trek  Where No Man Has Gone Before       50   \n",
       "4                      Star Trek  Where No Man Has Gone Before       50   \n",
       "...                          ...                           ...      ...   \n",
       "8399  The Haunting of Hill House                    Two Storms       57   \n",
       "8400  The Haunting of Hill House                    Two Storms       57   \n",
       "8401                 Castle Rock                     The Queen       59   \n",
       "8402                 Castle Rock                     The Queen       59   \n",
       "8403                 Castle Rock                     The Queen       59   \n",
       "\n",
       "      ocena  st_glasov  \n",
       "0       7.7       4159  \n",
       "1       7.7       4159  \n",
       "2       7.7       4159  \n",
       "3       7.8       3747  \n",
       "4       7.8       3747  \n",
       "...     ...        ...  \n",
       "8399    9.5       3026  \n",
       "8400    9.5       3026  \n",
       "8401    9.2       2322  \n",
       "8402    9.2       2322  \n",
       "8403    9.2       2322  \n",
       "\n",
       "[8404 rows x 5 columns]"
      ]
     },
     "execution_count": 18,
     "metadata": {},
     "output_type": "execute_result"
    }
   ],
   "source": [
    "ostalo = zanri\n",
    "for element in list(komedije.serija):\n",
    "    ostalo = ostalo[ostalo.serija != element]\n",
    "ostalo = pd.merge(epizode, ostalo, left_on='serija', right_on='serija')\n",
    "ostalo = ostalo[['serija', 'epizoda', 'dolzina', 'ocena', 'st_glasov']]\n",
    "ostalo"
   ]
  },
  {
   "cell_type": "markdown",
   "metadata": {},
   "source": [
    "Vse epizode smo torej razdelili v razpredelnici `komedije`, ki vsebuje vse epizode oz. serije žanra komedija ter `ostalo`, ki pa vsebuje vse serije, ki niso komične. S pomočjo teh dveh tabel bomo torej lahko prišli do primerjav med želenima kategorijama.\n",
    "\n",
    "*Komentar*: Z zapisom `ostalo[ostalo.dolzina < 30]` lahko ugotovimo, da je število nekomičnih epizod s trajanjem manj kot 30 min enako 96. To število je zelo podobno številu prej omenjenih izjem, torej moja hipoteza v večini primerov res drži."
   ]
  },
  {
   "cell_type": "code",
   "execution_count": 19,
   "metadata": {},
   "outputs": [
    {
     "data": {
      "text/plain": [
       "26.662"
      ]
     },
     "execution_count": 19,
     "metadata": {},
     "output_type": "execute_result"
    }
   ],
   "source": [
    "round(komedije['dolzina'].mean(), 3)"
   ]
  },
  {
   "cell_type": "code",
   "execution_count": 20,
   "metadata": {},
   "outputs": [
    {
     "data": {
      "text/plain": [
       "49.013"
      ]
     },
     "execution_count": 20,
     "metadata": {},
     "output_type": "execute_result"
    }
   ],
   "source": [
    "round(ostalo['dolzina'].mean(), 3)"
   ]
  },
  {
   "cell_type": "markdown",
   "metadata": {},
   "source": [
    "Če si ogledamo še povprečno trajanje posamezne kategorije, res ugotovimo, da je povprečno trajanje epizode komičnih serij manjše kot 30 minut, povprečno trajanje epizod ostalih zvrsti pa to mejo krepko presega."
   ]
  },
  {
   "cell_type": "markdown",
   "metadata": {},
   "source": [
    "### Primerjava ocen"
   ]
  },
  {
   "cell_type": "code",
   "execution_count": 121,
   "metadata": {},
   "outputs": [
    {
     "name": "stdout",
     "output_type": "stream",
     "text": [
      "8.486\n"
     ]
    },
    {
     "data": {
      "text/plain": [
       "0.692"
      ]
     },
     "execution_count": 121,
     "metadata": {},
     "output_type": "execute_result"
    }
   ],
   "source": [
    "print(round(komedije['ocena'].mean(), 3))\n",
    "round(komedije['ocena'].std(), 3)"
   ]
  },
  {
   "cell_type": "code",
   "execution_count": 122,
   "metadata": {},
   "outputs": [
    {
     "name": "stdout",
     "output_type": "stream",
     "text": [
      "8.53\n"
     ]
    },
    {
     "data": {
      "text/plain": [
       "0.672"
      ]
     },
     "execution_count": 122,
     "metadata": {},
     "output_type": "execute_result"
    }
   ],
   "source": [
    "print(round(ostalo['ocena'].mean(), 3))\n",
    "round(ostalo['ocena'].std(), 3)"
   ]
  },
  {
   "cell_type": "markdown",
   "metadata": {},
   "source": [
    "Iz primerjave ocen lahko ugotovimo, da so v povprečju rahlo bolje ocenjene nekomične epizode ozirmoma serije, vendar je razlika med ocenama res minimalna. Prav tako je standardni odklon za obe količini približno velik, njegova velikost pa tudi ni preveč presenetljiva ali zanimiva."
   ]
  },
  {
   "cell_type": "markdown",
   "metadata": {},
   "source": [
    "### Primerjava gledanosti"
   ]
  },
  {
   "cell_type": "code",
   "execution_count": 123,
   "metadata": {},
   "outputs": [
    {
     "name": "stdout",
     "output_type": "stream",
     "text": [
      "2734.1\n"
     ]
    },
    {
     "data": {
      "text/plain": [
       "1305.5"
      ]
     },
     "execution_count": 123,
     "metadata": {},
     "output_type": "execute_result"
    }
   ],
   "source": [
    "print(round(komedije['st_glasov'].mean(), 1))\n",
    "round(komedije['st_glasov'].std(), 1)"
   ]
  },
  {
   "cell_type": "code",
   "execution_count": 124,
   "metadata": {},
   "outputs": [
    {
     "name": "stdout",
     "output_type": "stream",
     "text": [
      "4720.9\n"
     ]
    },
    {
     "data": {
      "text/plain": [
       "6488.4"
      ]
     },
     "execution_count": 124,
     "metadata": {},
     "output_type": "execute_result"
    }
   ],
   "source": [
    "print(round(ostalo['st_glasov'].mean(), 1))\n",
    "round(ostalo['st_glasov'].std(), 1)"
   ]
  },
  {
   "cell_type": "markdown",
   "metadata": {},
   "source": [
    "Pri primerjavi gledanosti pa hitro opazimo, da je povprečno število glasov pri komedijah skoraj dvakrat manjše kot povprečno število glasov pri ostalih žanrih. Iz tega bi lahko sklepali, da so nekomične serije bolj gledane kot komične, ali pa vsaj, da jim je njihov povprečni gledalec bolj naklonjen in si je zato pripravljen vzeti nekaj časa za oddajo svoje ocene epizod na spletni strani IMDb.\n",
    "\n",
    "Pri obravnavi standardnega odklona pa ugotovimo, da je pri komedijah le-ta skoraj 50%, torej zelo velik. Še večji pa je pri nekomičnih serijah, saj presega 100%. To je na nek način kar pričakovan podatek, saj se število glasov pri epizodah precej razlikuje, poleg tega pa imamo nekaj epizod, ki res močno presegajo povprečje, kar smo opazili že pri obravnavi primerjave med številom glasov in oceno."
   ]
  },
  {
   "cell_type": "code",
   "execution_count": null,
   "metadata": {},
   "outputs": [],
   "source": []
  }
 ],
 "metadata": {
  "kernelspec": {
   "display_name": "Python 3",
   "language": "python",
   "name": "python3"
  },
  "language_info": {
   "codemirror_mode": {
    "name": "ipython",
    "version": 3
   },
   "file_extension": ".py",
   "mimetype": "text/x-python",
   "name": "python",
   "nbconvert_exporter": "python",
   "pygments_lexer": "ipython3",
   "version": "3.7.0"
  }
 },
 "nbformat": 4,
 "nbformat_minor": 2
}
